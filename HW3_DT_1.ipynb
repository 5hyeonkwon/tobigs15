{
 "cells": [
  {
   "cell_type": "markdown",
   "metadata": {},
   "source": [
    "# DT Assignment1"
   ]
  },
  {
   "cell_type": "markdown",
   "metadata": {},
   "source": [
    "# Data Loading"
   ]
  },
  {
   "cell_type": "code",
   "execution_count": 1,
   "metadata": {},
   "outputs": [],
   "source": [
    "import pandas as pd \n",
    "import numpy as np"
   ]
  },
  {
   "cell_type": "code",
   "execution_count": 2,
   "metadata": {},
   "outputs": [
    {
     "data": {
      "text/html": [
       "<div>\n",
       "<style scoped>\n",
       "    .dataframe tbody tr th:only-of-type {\n",
       "        vertical-align: middle;\n",
       "    }\n",
       "\n",
       "    .dataframe tbody tr th {\n",
       "        vertical-align: top;\n",
       "    }\n",
       "\n",
       "    .dataframe thead th {\n",
       "        text-align: right;\n",
       "    }\n",
       "</style>\n",
       "<table border=\"1\" class=\"dataframe\">\n",
       "  <thead>\n",
       "    <tr style=\"text-align: right;\">\n",
       "      <th></th>\n",
       "      <th>age</th>\n",
       "      <th>income</th>\n",
       "      <th>student</th>\n",
       "      <th>credit_rating</th>\n",
       "      <th>class_buys_computer</th>\n",
       "    </tr>\n",
       "  </thead>\n",
       "  <tbody>\n",
       "    <tr>\n",
       "      <th>0</th>\n",
       "      <td>youth</td>\n",
       "      <td>high</td>\n",
       "      <td>no</td>\n",
       "      <td>fair</td>\n",
       "      <td>no</td>\n",
       "    </tr>\n",
       "    <tr>\n",
       "      <th>1</th>\n",
       "      <td>youth</td>\n",
       "      <td>high</td>\n",
       "      <td>no</td>\n",
       "      <td>excellent</td>\n",
       "      <td>no</td>\n",
       "    </tr>\n",
       "    <tr>\n",
       "      <th>2</th>\n",
       "      <td>middle_aged</td>\n",
       "      <td>high</td>\n",
       "      <td>no</td>\n",
       "      <td>fair</td>\n",
       "      <td>yes</td>\n",
       "    </tr>\n",
       "    <tr>\n",
       "      <th>3</th>\n",
       "      <td>senior</td>\n",
       "      <td>medium</td>\n",
       "      <td>no</td>\n",
       "      <td>fair</td>\n",
       "      <td>yes</td>\n",
       "    </tr>\n",
       "    <tr>\n",
       "      <th>4</th>\n",
       "      <td>senior</td>\n",
       "      <td>low</td>\n",
       "      <td>yes</td>\n",
       "      <td>fair</td>\n",
       "      <td>yes</td>\n",
       "    </tr>\n",
       "    <tr>\n",
       "      <th>5</th>\n",
       "      <td>senior</td>\n",
       "      <td>low</td>\n",
       "      <td>yes</td>\n",
       "      <td>excellent</td>\n",
       "      <td>no</td>\n",
       "    </tr>\n",
       "    <tr>\n",
       "      <th>6</th>\n",
       "      <td>middle_aged</td>\n",
       "      <td>low</td>\n",
       "      <td>yes</td>\n",
       "      <td>excellent</td>\n",
       "      <td>yes</td>\n",
       "    </tr>\n",
       "    <tr>\n",
       "      <th>7</th>\n",
       "      <td>youth</td>\n",
       "      <td>medium</td>\n",
       "      <td>no</td>\n",
       "      <td>fair</td>\n",
       "      <td>no</td>\n",
       "    </tr>\n",
       "    <tr>\n",
       "      <th>8</th>\n",
       "      <td>youth</td>\n",
       "      <td>low</td>\n",
       "      <td>yes</td>\n",
       "      <td>fair</td>\n",
       "      <td>yes</td>\n",
       "    </tr>\n",
       "    <tr>\n",
       "      <th>9</th>\n",
       "      <td>senior</td>\n",
       "      <td>medium</td>\n",
       "      <td>yes</td>\n",
       "      <td>fair</td>\n",
       "      <td>yes</td>\n",
       "    </tr>\n",
       "    <tr>\n",
       "      <th>10</th>\n",
       "      <td>youth</td>\n",
       "      <td>medium</td>\n",
       "      <td>yes</td>\n",
       "      <td>excellent</td>\n",
       "      <td>yes</td>\n",
       "    </tr>\n",
       "    <tr>\n",
       "      <th>11</th>\n",
       "      <td>middle_aged</td>\n",
       "      <td>medium</td>\n",
       "      <td>no</td>\n",
       "      <td>excellent</td>\n",
       "      <td>yes</td>\n",
       "    </tr>\n",
       "    <tr>\n",
       "      <th>12</th>\n",
       "      <td>middle_aged</td>\n",
       "      <td>high</td>\n",
       "      <td>yes</td>\n",
       "      <td>fair</td>\n",
       "      <td>yes</td>\n",
       "    </tr>\n",
       "    <tr>\n",
       "      <th>13</th>\n",
       "      <td>senior</td>\n",
       "      <td>medium</td>\n",
       "      <td>no</td>\n",
       "      <td>excellent</td>\n",
       "      <td>no</td>\n",
       "    </tr>\n",
       "  </tbody>\n",
       "</table>\n",
       "</div>"
      ],
      "text/plain": [
       "            age  income student credit_rating class_buys_computer\n",
       "0         youth    high      no          fair                  no\n",
       "1         youth    high      no     excellent                  no\n",
       "2   middle_aged    high      no          fair                 yes\n",
       "3        senior  medium      no          fair                 yes\n",
       "4        senior     low     yes          fair                 yes\n",
       "5        senior     low     yes     excellent                  no\n",
       "6   middle_aged     low     yes     excellent                 yes\n",
       "7         youth  medium      no          fair                  no\n",
       "8         youth     low     yes          fair                 yes\n",
       "9        senior  medium     yes          fair                 yes\n",
       "10        youth  medium     yes     excellent                 yes\n",
       "11  middle_aged  medium      no     excellent                 yes\n",
       "12  middle_aged    high     yes          fair                 yes\n",
       "13       senior  medium      no     excellent                  no"
      ]
     },
     "execution_count": 2,
     "metadata": {},
     "output_type": "execute_result"
    }
   ],
   "source": [
    "pd_data = pd.read_csv('https://raw.githubusercontent.com/AugustLONG/ML01/master/01decisiontree/AllElectronics.csv')\n",
    "pd_data.drop(\"RID\",axis=1, inplace = True) #RID는 그냥 순서라서 삭제\n",
    "pd_data"
   ]
  },
  {
   "cell_type": "markdown",
   "metadata": {},
   "source": [
    "# 1. Gini 계수를 구하는 함수 만들기"
   ]
  },
  {
   "cell_type": "markdown",
   "metadata": {},
   "source": [
    "- Input: df(데이터), label(타겟변수명)\n",
    "- 해당 결과는 아래와 같이 나와야 합니다."
   ]
  },
  {
   "cell_type": "code",
   "execution_count": 8,
   "metadata": {},
   "outputs": [
    {
     "data": {
      "text/plain": [
       "0.6428571428571429"
      ]
     },
     "execution_count": 8,
     "metadata": {},
     "output_type": "execute_result"
    }
   ],
   "source": [
    "np.mean(pd_data['class_buys_computer'] == 'yes')"
   ]
  },
  {
   "cell_type": "code",
   "execution_count": 11,
   "metadata": {},
   "outputs": [],
   "source": [
    "def get_gini(df, label):\n",
    "    \n",
    "    p_y = np.mean(df[label] == 'yes') # 이 데이터의 경우 yes , no 이진분류 문제기 때문에 y==true일 확률\n",
    "    p_n = 1 - p_y # y==no일 확률을 구해준 후 \n",
    "    gini = 1 - (p_y**2 + p_n**2) # gini 계수 구하는 공식에 의하여 값을 구한다.\n",
    "    \n",
    "    return gini    "
   ]
  },
  {
   "cell_type": "code",
   "execution_count": 12,
   "metadata": {},
   "outputs": [
    {
     "data": {
      "text/plain": [
       "0.4591836734693877"
      ]
     },
     "execution_count": 12,
     "metadata": {},
     "output_type": "execute_result"
    }
   ],
   "source": [
    "get_gini(pd_data,'class_buys_computer')"
   ]
  },
  {
   "cell_type": "markdown",
   "metadata": {},
   "source": [
    "# 2. Feature의 Class를 이진 분류로 만들기\n",
    " ## ex) {A,B,C} -> ({A}, {B,C}), ({B}, {A,C}), ({C}, {A,B})"
   ]
  },
  {
   "cell_type": "markdown",
   "metadata": {},
   "source": [
    "- Input: df(데이터), attribute(Gini index를 구하고자 하는 변수명)\n",
    "- 해당 결과는 아래와 같이 나와야 합니다."
   ]
  },
  {
   "cell_type": "code",
   "execution_count": 13,
   "metadata": {},
   "outputs": [],
   "source": [
    "def get_binary_split(df, attribute):\n",
    "    result = []\n",
    "    values = df[attribute].unique()  # feature의 unique값들을 이진 분류로 만들기 위해 완전 탐색을 이용하여 \n",
    "    \n",
    "    for i in range(len(values)) :     \n",
    "        result.append([values[i]])     # 모든 조합을 구한 후 return해 준다.\n",
    "        for j in range(i+1,len(values) ):\n",
    "            result.append([values[i],values[j]])\n",
    "    \n",
    "    return result"
   ]
  },
  {
   "cell_type": "code",
   "execution_count": 14,
   "metadata": {},
   "outputs": [
    {
     "data": {
      "text/plain": [
       "[['youth'],\n",
       " ['youth', 'middle_aged'],\n",
       " ['youth', 'senior'],\n",
       " ['middle_aged'],\n",
       " ['middle_aged', 'senior'],\n",
       " ['senior']]"
      ]
     },
     "execution_count": 14,
     "metadata": {},
     "output_type": "execute_result"
    }
   ],
   "source": [
    "get_binary_split(pd_data,\"age\")"
   ]
  },
  {
   "cell_type": "markdown",
   "metadata": {},
   "source": [
    "# 3. 다음은 모든 이진분류의 경우의 Gini index를 구하는 함수 만들기\n",
    "- 위에서 완성한 두 함수를 사용하여 만들어주세요!\n",
    "- 해당 결과는 아래와 같이 나와야 합니다."
   ]
  },
  {
   "cell_type": "code",
   "execution_count": 45,
   "metadata": {},
   "outputs": [],
   "source": [
    "def get_attribute_gini_index(df, attribute, label):\n",
    "    \n",
    "    result = {}\n",
    "    categories = get_binary_split(df, attribute) # 앞에서 정의한 함수로 이진분류의 경우들을 categories에 담고 \n",
    "    \n",
    "    for category in categories :\n",
    "        y = df[df[attribute].isin(category)] # categories에 list로 저장되어 있으므로 isin함수를 이용하여 df의 변수에서 category에 해당하는 경우와 \n",
    "        n = df[~df[attribute].isin(category)]# 아닌경우로 나눈다.\n",
    "        \n",
    "        gini = len(y)/len(df) * get_gini(y, label) + len(n)/len(df) * get_gini(n, label)\n",
    "        # 그 후 y = true, false에 대하여 기존에 정의한 get_gini로 gini index를 구한후 \n",
    "        # 각각의 category에 대하여 gini index를 비교한다.\n",
    "\n",
    "        result.update({'&'.join(category) : gini})\n",
    "    \n",
    "    return result"
   ]
  },
  {
   "cell_type": "code",
   "execution_count": 46,
   "metadata": {},
   "outputs": [
    {
     "data": {
      "text/plain": [
       "{'youth': 0.3936507936507937,\n",
       " 'youth&middle_aged': 0.45714285714285713,\n",
       " 'youth&senior': 0.35714285714285715,\n",
       " 'middle_aged': 0.35714285714285715,\n",
       " 'middle_aged&senior': 0.3936507936507937,\n",
       " 'senior': 0.45714285714285713}"
      ]
     },
     "execution_count": 46,
     "metadata": {},
     "output_type": "execute_result"
    }
   ],
   "source": [
    "get_attribute_gini_index(pd_data, \"age\", \"class_buys_computer\")# 결과는 다음과 같다."
   ]
  },
  {
   "cell_type": "markdown",
   "metadata": {},
   "source": [
    "여기서 가장 작은 Gini index값을 가지는 class를 기준으로 split해야겠죠?"
   ]
  },
  {
   "cell_type": "code",
   "execution_count": 47,
   "metadata": {},
   "outputs": [
    {
     "data": {
      "text/plain": [
       "('middle_aged', 0.35714285714285715)"
      ]
     },
     "execution_count": 47,
     "metadata": {},
     "output_type": "execute_result"
    }
   ],
   "source": [
    "min(get_attribute_gini_index(pd_data, \"age\", \"class_buys_computer\").items())  # gini index에 의하여 class split 기준은 middle_aged / youth&senior 이 적당하다."
   ]
  },
  {
   "cell_type": "markdown",
   "metadata": {},
   "source": [
    "# 다음의 문제를 위에서 작성한 함수를 통해 구한 값으로 보여주세요!\n",
    "## 문제1) 변수 ‘income’의 이진분류 결과를 보여주세요.\n",
    "\n",
    "## 문제2) 분류를 하는 데 가장 중요한 변수를 선정하고, 해당 변수의 Gini index를 제시해주세요.\n",
    "\n",
    "## 문제3) 문제 2에서 제시한 feature로 DataFrame을 split한 후 나눠진 2개의 DataFrame에서 각각   다음으로 중요한 변수를 선정하고 해당 변수의 Gini index를 제시해주세요."
   ]
  },
  {
   "cell_type": "code",
   "execution_count": 48,
   "metadata": {},
   "outputs": [
    {
     "data": {
      "text/plain": [
       "[['high'],\n",
       " ['high', 'medium'],\n",
       " ['high', 'low'],\n",
       " ['medium'],\n",
       " ['medium', 'low'],\n",
       " ['low']]"
      ]
     },
     "execution_count": 48,
     "metadata": {},
     "output_type": "execute_result"
    }
   ],
   "source": [
    "##문제1 답안\n",
    "\n",
    "get_binary_split(pd_data, 'income') # income의 unique 값들에 대하여 이진 분류"
   ]
  },
  {
   "cell_type": "code",
   "execution_count": 64,
   "metadata": {},
   "outputs": [
    {
     "name": "stdout",
     "output_type": "stream",
     "text": [
      "중요한 변수 : age, 해당 변수 & gini 계수 : ('middle_aged', 0.35714285714285715)\n"
     ]
    }
   ],
   "source": [
    "##문제2 답안\n",
    "features = list(pd_data.columns[:-1]) # target 변수인 'class_buys_computer'을 제외한 변수들을 저장하여 각각 gini index를 구해준다.\n",
    "\n",
    "categories = []\n",
    "min_ginis = []\n",
    "\n",
    "for f in features : \n",
    "    cate, gini = min(get_attribute_gini_index(pd_data, f, 'class_buys_computer').items()) \n",
    "    # get_attribute_gini_index를 이용하여 각 분류 값에 대한 gini index를 구하여 저장을 한 후 np.argmin을 이용하여 최소 gini index를\n",
    "    # 가지는 index 값을 불러와 print를 해준다. \n",
    "    categories.append(cate)\n",
    "    min_ginis.append(gini)\n",
    "\n",
    "idx = np.argmin(min_ginis)\n",
    "\n",
    "print(f\"중요한 변수 : {features[idx]}, 해당 변수 & gini 계수 : {categories[idx], min_ginis[idx]}\")\n",
    "# 그 결과로 age의 변수가 중요하며 middle_aged | youth & senior 로 분류가 됨을 확인할 수 있다."
   ]
  },
  {
   "cell_type": "code",
   "execution_count": 65,
   "metadata": {},
   "outputs": [],
   "source": [
    "##문제3 답안\n",
    "features.pop(idx)\n",
    "\n",
    "new_features = features # 위에서 분류한 age를 제거후 새로운 변수들을 list로 정의하여 다음 분류 기준을 정한다.\n",
    "df_y = pd_data[pd_data['age'] == 'middle_aged'] # 위에서 나온 age에 middle_aged 기준으로 데이터를 분류한다. \n",
    "df_n = pd_data[pd_data['age'] != 'middle_aged'] # youth & senior\n",
    " \n",
    " "
   ]
  },
  {
   "cell_type": "code",
   "execution_count": 82,
   "metadata": {},
   "outputs": [
    {
     "data": {
      "text/plain": [
       "(            age  income student credit_rating class_buys_computer\n",
       " 2   middle_aged    high      no          fair                 yes\n",
       " 6   middle_aged     low     yes     excellent                 yes\n",
       " 11  middle_aged  medium      no     excellent                 yes\n",
       " 12  middle_aged    high     yes          fair                 yes,\n",
       "        age  income student credit_rating class_buys_computer\n",
       " 0    youth    high      no          fair                  no\n",
       " 1    youth    high      no     excellent                  no\n",
       " 3   senior  medium      no          fair                 yes\n",
       " 4   senior     low     yes          fair                 yes\n",
       " 5   senior     low     yes     excellent                  no\n",
       " 7    youth  medium      no          fair                  no\n",
       " 8    youth     low     yes          fair                 yes\n",
       " 9   senior  medium     yes          fair                 yes\n",
       " 10   youth  medium     yes     excellent                 yes\n",
       " 13  senior  medium      no     excellent                  no)"
      ]
     },
     "execution_count": 82,
     "metadata": {},
     "output_type": "execute_result"
    }
   ],
   "source": [
    "df_y, df_n"
   ]
  },
  {
   "cell_type": "code",
   "execution_count": 83,
   "metadata": {},
   "outputs": [
    {
     "name": "stdout",
     "output_type": "stream",
     "text": [
      "중요한 변수 : income, 해당 변수 & gini 계수 : ('high', 0.0)\n"
     ]
    }
   ],
   "source": [
    "categories = []\n",
    "min_ginis = []\n",
    "\n",
    "for f in new_features : # 위와 같은 방식으로 변수들에 대하여 최소 gini index를 가지는 분류 기준과 gini index를 저장하여 \n",
    "    cate, gini = min(get_attribute_gini_index(df_y, f, 'class_buys_computer').items())\n",
    "    categories.append(cate)\n",
    "    min_ginis.append(gini)\n",
    "     \n",
    "    # index를 구한 후 결과를 확인해 본다. \n",
    "idx = np.argmin(min_ginis)\n",
    "\n",
    "print(f\"중요한 변수 : {features[idx]}, 해당 변수 & gini 계수 : {categories[idx], min_ginis[idx]}\")\n",
    "# 그 결과 age == middle_aged의 경우 income 변수 중 high | low, medium이 분류된다.\n",
    "result_y = [features[idx], categories[idx], min_ginis[idx]]"
   ]
  },
  {
   "cell_type": "code",
   "execution_count": 78,
   "metadata": {},
   "outputs": [
    {
     "name": "stdout",
     "output_type": "stream",
     "text": [
      "중요한 변수 : student, 해당 변수 & gini 계수 : ('no', 0.31999999999999984)\n"
     ]
    }
   ],
   "source": [
    "categories = []\n",
    "min_ginis = []\n",
    "\n",
    "for f in new_features :\n",
    "    cate, gini = min(get_attribute_gini_index(df_n, f, 'class_buys_computer').items()) \n",
    "    categories.append(cate)\n",
    "    min_ginis.append(gini)\n",
    "\n",
    "idx = np.argmin(min_ginis)\n",
    "\n",
    "# age != middle_aged의 경우  income 변수가 가장 낮은 gini index를 가지고 그 중 no를 기준으로 분류가 진행된다. (no | yes)\n",
    "print(f\"중요한 변수 : {features[idx]}, 해당 변수 & gini 계수 : {categories[idx], min_ginis[idx]}\")\n",
    "result_n = [features[idx], categories[idx], min_ginis[idx]]"
   ]
  },
  {
   "cell_type": "code",
   "execution_count": 81,
   "metadata": {
    "scrolled": true
   },
   "outputs": [
    {
     "data": {
      "text/html": [
       "<div>\n",
       "<style scoped>\n",
       "    .dataframe tbody tr th:only-of-type {\n",
       "        vertical-align: middle;\n",
       "    }\n",
       "\n",
       "    .dataframe tbody tr th {\n",
       "        vertical-align: top;\n",
       "    }\n",
       "\n",
       "    .dataframe thead th {\n",
       "        text-align: right;\n",
       "    }\n",
       "</style>\n",
       "<table border=\"1\" class=\"dataframe\">\n",
       "  <thead>\n",
       "    <tr style=\"text-align: right;\">\n",
       "      <th></th>\n",
       "      <th>feature</th>\n",
       "      <th>category</th>\n",
       "      <th>gini_index</th>\n",
       "    </tr>\n",
       "  </thead>\n",
       "  <tbody>\n",
       "    <tr>\n",
       "      <th>0</th>\n",
       "      <td>income</td>\n",
       "      <td>high</td>\n",
       "      <td>0.00</td>\n",
       "    </tr>\n",
       "    <tr>\n",
       "      <th>1</th>\n",
       "      <td>student</td>\n",
       "      <td>no</td>\n",
       "      <td>0.32</td>\n",
       "    </tr>\n",
       "  </tbody>\n",
       "</table>\n",
       "</div>"
      ],
      "text/plain": [
       "   feature category  gini_index\n",
       "0   income     high        0.00\n",
       "1  student       no        0.32"
      ]
     },
     "execution_count": 81,
     "metadata": {},
     "output_type": "execute_result"
    }
   ],
   "source": [
    "result = pd.DataFrame(data = [result_y,result_n], columns = ['feature', 'category', 'gini_index'])\n",
    "result"
   ]
  }
 ],
 "metadata": {
  "kernelspec": {
   "display_name": "Python 3",
   "language": "python",
   "name": "python3"
  },
  "language_info": {
   "codemirror_mode": {
    "name": "ipython",
    "version": 3
   },
   "file_extension": ".py",
   "mimetype": "text/x-python",
   "name": "python",
   "nbconvert_exporter": "python",
   "pygments_lexer": "ipython3",
   "version": "3.8.6"
  }
 },
 "nbformat": 4,
 "nbformat_minor": 4
}
