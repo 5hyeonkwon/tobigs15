{
 "cells": [
  {
   "cell_type": "markdown",
   "metadata": {},
   "source": [
    "# Assignment3"
   ]
  },
  {
   "cell_type": "markdown",
   "metadata": {},
   "source": [
    "1. sklearn 패키지를 사용해 로지스틱 회귀모형으로 데이터를 분석해 주세요 \n",
    "2. 성능지표를 계산하고 이에 대해 해석해 주세요 \n",
    "   - sklearn : mean accuracy, f1 score 등 다양한 성능지표 계산 \n",
    "   - confusion matrix : tp, fp, fn, tn 값을 통해 성능지표 계산  \n",
    "3. 어떤 성능지표를 기준으로 성능을 개선을 시도했고, 그러한 선택의 이유를 적어주세요.\n",
    "4. **해석을 상세하게 달아주세요 !**"
   ]
  },
  {
   "cell_type": "markdown",
   "metadata": {},
   "source": [
    "## Data "
   ]
  },
  {
   "cell_type": "markdown",
   "metadata": {},
   "source": [
    "출처 : https://www.kaggle.com/mlg-ulb/creditcardfraud\n",
    "\n",
    "\n",
    "* V1 ~ V28 : 비식별화 된 개인정보 \n",
    "* **Class** : Target 변수  \n",
    "  - 1 : fraudulent transactions (사기)\n",
    "  - 0 : otherwise "
   ]
  },
  {
   "cell_type": "code",
   "execution_count": 1,
   "metadata": {},
   "outputs": [],
   "source": [
    "import pandas as pd\n",
    "import numpy as np\n",
    "import matplotlib.pyplot as plt\n",
    "import warnings\n",
    "warnings.filterwarnings('ignore')"
   ]
  },
  {
   "cell_type": "code",
   "execution_count": 2,
   "metadata": {},
   "outputs": [],
   "source": [
    "credit = pd.read_csv(\"assignment3_creditcard.csv\")"
   ]
  },
  {
   "cell_type": "code",
   "execution_count": 3,
   "metadata": {
    "scrolled": true
   },
   "outputs": [
    {
     "data": {
      "text/html": [
       "<div>\n",
       "<style scoped>\n",
       "    .dataframe tbody tr th:only-of-type {\n",
       "        vertical-align: middle;\n",
       "    }\n",
       "\n",
       "    .dataframe tbody tr th {\n",
       "        vertical-align: top;\n",
       "    }\n",
       "\n",
       "    .dataframe thead th {\n",
       "        text-align: right;\n",
       "    }\n",
       "</style>\n",
       "<table border=\"1\" class=\"dataframe\">\n",
       "  <thead>\n",
       "    <tr style=\"text-align: right;\">\n",
       "      <th></th>\n",
       "      <th>V1</th>\n",
       "      <th>V2</th>\n",
       "      <th>V3</th>\n",
       "      <th>V4</th>\n",
       "      <th>V5</th>\n",
       "      <th>V6</th>\n",
       "      <th>V7</th>\n",
       "      <th>V8</th>\n",
       "      <th>V9</th>\n",
       "      <th>V10</th>\n",
       "      <th>...</th>\n",
       "      <th>V20</th>\n",
       "      <th>V21</th>\n",
       "      <th>V22</th>\n",
       "      <th>V23</th>\n",
       "      <th>V24</th>\n",
       "      <th>V25</th>\n",
       "      <th>V26</th>\n",
       "      <th>V27</th>\n",
       "      <th>V28</th>\n",
       "      <th>Class</th>\n",
       "    </tr>\n",
       "  </thead>\n",
       "  <tbody>\n",
       "    <tr>\n",
       "      <th>0</th>\n",
       "      <td>-1.848212</td>\n",
       "      <td>2.384900</td>\n",
       "      <td>0.379573</td>\n",
       "      <td>1.048381</td>\n",
       "      <td>-0.845070</td>\n",
       "      <td>2.537837</td>\n",
       "      <td>-4.542983</td>\n",
       "      <td>-10.201458</td>\n",
       "      <td>-1.504967</td>\n",
       "      <td>-2.234167</td>\n",
       "      <td>...</td>\n",
       "      <td>2.585817</td>\n",
       "      <td>-5.291690</td>\n",
       "      <td>0.859364</td>\n",
       "      <td>0.423231</td>\n",
       "      <td>-0.506985</td>\n",
       "      <td>1.020052</td>\n",
       "      <td>-0.627751</td>\n",
       "      <td>-0.017753</td>\n",
       "      <td>0.280982</td>\n",
       "      <td>0</td>\n",
       "    </tr>\n",
       "    <tr>\n",
       "      <th>1</th>\n",
       "      <td>2.071805</td>\n",
       "      <td>-0.477943</td>\n",
       "      <td>-1.444444</td>\n",
       "      <td>-0.548657</td>\n",
       "      <td>0.010036</td>\n",
       "      <td>-0.582242</td>\n",
       "      <td>-0.042878</td>\n",
       "      <td>-0.247160</td>\n",
       "      <td>1.171923</td>\n",
       "      <td>-0.342382</td>\n",
       "      <td>...</td>\n",
       "      <td>-0.077306</td>\n",
       "      <td>0.042858</td>\n",
       "      <td>0.390125</td>\n",
       "      <td>0.041569</td>\n",
       "      <td>0.598427</td>\n",
       "      <td>0.098803</td>\n",
       "      <td>0.979686</td>\n",
       "      <td>-0.093244</td>\n",
       "      <td>-0.065615</td>\n",
       "      <td>0</td>\n",
       "    </tr>\n",
       "    <tr>\n",
       "      <th>2</th>\n",
       "      <td>-2.985294</td>\n",
       "      <td>-2.747472</td>\n",
       "      <td>1.194068</td>\n",
       "      <td>-0.003036</td>\n",
       "      <td>-1.151041</td>\n",
       "      <td>-0.263559</td>\n",
       "      <td>0.553500</td>\n",
       "      <td>0.635600</td>\n",
       "      <td>0.438545</td>\n",
       "      <td>-1.806488</td>\n",
       "      <td>...</td>\n",
       "      <td>1.345776</td>\n",
       "      <td>0.373760</td>\n",
       "      <td>-0.385777</td>\n",
       "      <td>1.197596</td>\n",
       "      <td>0.407229</td>\n",
       "      <td>0.008013</td>\n",
       "      <td>0.762362</td>\n",
       "      <td>-0.299024</td>\n",
       "      <td>-0.303929</td>\n",
       "      <td>0</td>\n",
       "    </tr>\n",
       "    <tr>\n",
       "      <th>3</th>\n",
       "      <td>-1.479452</td>\n",
       "      <td>1.542874</td>\n",
       "      <td>0.290895</td>\n",
       "      <td>0.838142</td>\n",
       "      <td>-0.529290</td>\n",
       "      <td>-0.717661</td>\n",
       "      <td>0.484516</td>\n",
       "      <td>0.545092</td>\n",
       "      <td>-0.780767</td>\n",
       "      <td>0.324804</td>\n",
       "      <td>...</td>\n",
       "      <td>0.038397</td>\n",
       "      <td>0.116771</td>\n",
       "      <td>0.405560</td>\n",
       "      <td>-0.116453</td>\n",
       "      <td>0.541275</td>\n",
       "      <td>-0.216665</td>\n",
       "      <td>-0.415578</td>\n",
       "      <td>0.027126</td>\n",
       "      <td>-0.150347</td>\n",
       "      <td>0</td>\n",
       "    </tr>\n",
       "    <tr>\n",
       "      <th>4</th>\n",
       "      <td>-0.281976</td>\n",
       "      <td>-0.309699</td>\n",
       "      <td>-2.162299</td>\n",
       "      <td>-0.851514</td>\n",
       "      <td>0.106167</td>\n",
       "      <td>-1.483888</td>\n",
       "      <td>1.930994</td>\n",
       "      <td>-0.843049</td>\n",
       "      <td>-1.249272</td>\n",
       "      <td>1.079608</td>\n",
       "      <td>...</td>\n",
       "      <td>-0.875516</td>\n",
       "      <td>-0.004199</td>\n",
       "      <td>1.015108</td>\n",
       "      <td>-0.026748</td>\n",
       "      <td>0.077115</td>\n",
       "      <td>-1.468822</td>\n",
       "      <td>0.751700</td>\n",
       "      <td>0.496732</td>\n",
       "      <td>0.331001</td>\n",
       "      <td>0</td>\n",
       "    </tr>\n",
       "    <tr>\n",
       "      <th>...</th>\n",
       "      <td>...</td>\n",
       "      <td>...</td>\n",
       "      <td>...</td>\n",
       "      <td>...</td>\n",
       "      <td>...</td>\n",
       "      <td>...</td>\n",
       "      <td>...</td>\n",
       "      <td>...</td>\n",
       "      <td>...</td>\n",
       "      <td>...</td>\n",
       "      <td>...</td>\n",
       "      <td>...</td>\n",
       "      <td>...</td>\n",
       "      <td>...</td>\n",
       "      <td>...</td>\n",
       "      <td>...</td>\n",
       "      <td>...</td>\n",
       "      <td>...</td>\n",
       "      <td>...</td>\n",
       "      <td>...</td>\n",
       "      <td>...</td>\n",
       "    </tr>\n",
       "    <tr>\n",
       "      <th>28673</th>\n",
       "      <td>2.063299</td>\n",
       "      <td>0.015015</td>\n",
       "      <td>-1.042161</td>\n",
       "      <td>0.409655</td>\n",
       "      <td>-0.069835</td>\n",
       "      <td>-1.198490</td>\n",
       "      <td>0.243507</td>\n",
       "      <td>-0.385099</td>\n",
       "      <td>0.408691</td>\n",
       "      <td>0.047861</td>\n",
       "      <td>...</td>\n",
       "      <td>-0.169749</td>\n",
       "      <td>-0.278942</td>\n",
       "      <td>-0.625629</td>\n",
       "      <td>0.331276</td>\n",
       "      <td>0.070205</td>\n",
       "      <td>-0.269826</td>\n",
       "      <td>0.192509</td>\n",
       "      <td>-0.064914</td>\n",
       "      <td>-0.058058</td>\n",
       "      <td>0</td>\n",
       "    </tr>\n",
       "    <tr>\n",
       "      <th>28674</th>\n",
       "      <td>1.264844</td>\n",
       "      <td>-1.228616</td>\n",
       "      <td>1.579098</td>\n",
       "      <td>-0.204514</td>\n",
       "      <td>-1.958881</td>\n",
       "      <td>0.546495</td>\n",
       "      <td>-1.764072</td>\n",
       "      <td>0.470377</td>\n",
       "      <td>1.002209</td>\n",
       "      <td>0.274005</td>\n",
       "      <td>...</td>\n",
       "      <td>-0.125401</td>\n",
       "      <td>0.144909</td>\n",
       "      <td>0.718615</td>\n",
       "      <td>-0.038493</td>\n",
       "      <td>0.103706</td>\n",
       "      <td>0.341100</td>\n",
       "      <td>-0.009807</td>\n",
       "      <td>0.089794</td>\n",
       "      <td>0.019848</td>\n",
       "      <td>0</td>\n",
       "    </tr>\n",
       "    <tr>\n",
       "      <th>28675</th>\n",
       "      <td>2.072659</td>\n",
       "      <td>0.190048</td>\n",
       "      <td>-1.759688</td>\n",
       "      <td>0.378909</td>\n",
       "      <td>0.556826</td>\n",
       "      <td>-0.769874</td>\n",
       "      <td>0.246899</td>\n",
       "      <td>-0.274561</td>\n",
       "      <td>0.380960</td>\n",
       "      <td>-0.405147</td>\n",
       "      <td>...</td>\n",
       "      <td>-0.084170</td>\n",
       "      <td>-0.361188</td>\n",
       "      <td>-0.910782</td>\n",
       "      <td>0.304372</td>\n",
       "      <td>0.401511</td>\n",
       "      <td>-0.212440</td>\n",
       "      <td>0.177857</td>\n",
       "      <td>-0.058961</td>\n",
       "      <td>-0.029035</td>\n",
       "      <td>0</td>\n",
       "    </tr>\n",
       "    <tr>\n",
       "      <th>28676</th>\n",
       "      <td>-0.690637</td>\n",
       "      <td>1.342271</td>\n",
       "      <td>1.498129</td>\n",
       "      <td>2.049774</td>\n",
       "      <td>1.055691</td>\n",
       "      <td>0.677197</td>\n",
       "      <td>0.855445</td>\n",
       "      <td>-0.467242</td>\n",
       "      <td>-0.681576</td>\n",
       "      <td>1.485542</td>\n",
       "      <td>...</td>\n",
       "      <td>0.030868</td>\n",
       "      <td>0.110939</td>\n",
       "      <td>0.453065</td>\n",
       "      <td>-0.355346</td>\n",
       "      <td>-0.771072</td>\n",
       "      <td>-0.358505</td>\n",
       "      <td>0.101309</td>\n",
       "      <td>-0.849084</td>\n",
       "      <td>-0.312999</td>\n",
       "      <td>0</td>\n",
       "    </tr>\n",
       "    <tr>\n",
       "      <th>28677</th>\n",
       "      <td>2.215783</td>\n",
       "      <td>-0.802708</td>\n",
       "      <td>-1.639556</td>\n",
       "      <td>-1.114807</td>\n",
       "      <td>-0.132806</td>\n",
       "      <td>-0.385132</td>\n",
       "      <td>-0.474623</td>\n",
       "      <td>-0.051786</td>\n",
       "      <td>-0.522953</td>\n",
       "      <td>0.989170</td>\n",
       "      <td>...</td>\n",
       "      <td>-0.103507</td>\n",
       "      <td>0.034129</td>\n",
       "      <td>0.022327</td>\n",
       "      <td>0.195771</td>\n",
       "      <td>0.263594</td>\n",
       "      <td>-0.030135</td>\n",
       "      <td>-0.298560</td>\n",
       "      <td>-0.053755</td>\n",
       "      <td>-0.074604</td>\n",
       "      <td>0</td>\n",
       "    </tr>\n",
       "  </tbody>\n",
       "</table>\n",
       "<p>28678 rows × 29 columns</p>\n",
       "</div>"
      ],
      "text/plain": [
       "             V1        V2        V3        V4        V5        V6        V7  \\\n",
       "0     -1.848212  2.384900  0.379573  1.048381 -0.845070  2.537837 -4.542983   \n",
       "1      2.071805 -0.477943 -1.444444 -0.548657  0.010036 -0.582242 -0.042878   \n",
       "2     -2.985294 -2.747472  1.194068 -0.003036 -1.151041 -0.263559  0.553500   \n",
       "3     -1.479452  1.542874  0.290895  0.838142 -0.529290 -0.717661  0.484516   \n",
       "4     -0.281976 -0.309699 -2.162299 -0.851514  0.106167 -1.483888  1.930994   \n",
       "...         ...       ...       ...       ...       ...       ...       ...   \n",
       "28673  2.063299  0.015015 -1.042161  0.409655 -0.069835 -1.198490  0.243507   \n",
       "28674  1.264844 -1.228616  1.579098 -0.204514 -1.958881  0.546495 -1.764072   \n",
       "28675  2.072659  0.190048 -1.759688  0.378909  0.556826 -0.769874  0.246899   \n",
       "28676 -0.690637  1.342271  1.498129  2.049774  1.055691  0.677197  0.855445   \n",
       "28677  2.215783 -0.802708 -1.639556 -1.114807 -0.132806 -0.385132 -0.474623   \n",
       "\n",
       "              V8        V9       V10  ...       V20       V21       V22  \\\n",
       "0     -10.201458 -1.504967 -2.234167  ...  2.585817 -5.291690  0.859364   \n",
       "1      -0.247160  1.171923 -0.342382  ... -0.077306  0.042858  0.390125   \n",
       "2       0.635600  0.438545 -1.806488  ...  1.345776  0.373760 -0.385777   \n",
       "3       0.545092 -0.780767  0.324804  ...  0.038397  0.116771  0.405560   \n",
       "4      -0.843049 -1.249272  1.079608  ... -0.875516 -0.004199  1.015108   \n",
       "...          ...       ...       ...  ...       ...       ...       ...   \n",
       "28673  -0.385099  0.408691  0.047861  ... -0.169749 -0.278942 -0.625629   \n",
       "28674   0.470377  1.002209  0.274005  ... -0.125401  0.144909  0.718615   \n",
       "28675  -0.274561  0.380960 -0.405147  ... -0.084170 -0.361188 -0.910782   \n",
       "28676  -0.467242 -0.681576  1.485542  ...  0.030868  0.110939  0.453065   \n",
       "28677  -0.051786 -0.522953  0.989170  ... -0.103507  0.034129  0.022327   \n",
       "\n",
       "            V23       V24       V25       V26       V27       V28  Class  \n",
       "0      0.423231 -0.506985  1.020052 -0.627751 -0.017753  0.280982      0  \n",
       "1      0.041569  0.598427  0.098803  0.979686 -0.093244 -0.065615      0  \n",
       "2      1.197596  0.407229  0.008013  0.762362 -0.299024 -0.303929      0  \n",
       "3     -0.116453  0.541275 -0.216665 -0.415578  0.027126 -0.150347      0  \n",
       "4     -0.026748  0.077115 -1.468822  0.751700  0.496732  0.331001      0  \n",
       "...         ...       ...       ...       ...       ...       ...    ...  \n",
       "28673  0.331276  0.070205 -0.269826  0.192509 -0.064914 -0.058058      0  \n",
       "28674 -0.038493  0.103706  0.341100 -0.009807  0.089794  0.019848      0  \n",
       "28675  0.304372  0.401511 -0.212440  0.177857 -0.058961 -0.029035      0  \n",
       "28676 -0.355346 -0.771072 -0.358505  0.101309 -0.849084 -0.312999      0  \n",
       "28677  0.195771  0.263594 -0.030135 -0.298560 -0.053755 -0.074604      0  \n",
       "\n",
       "[28678 rows x 29 columns]"
      ]
     },
     "execution_count": 3,
     "metadata": {},
     "output_type": "execute_result"
    }
   ],
   "source": [
    "credit"
   ]
  },
  {
   "cell_type": "code",
   "execution_count": 4,
   "metadata": {},
   "outputs": [
    {
     "name": "stdout",
     "output_type": "stream",
     "text": [
      "<class 'pandas.core.frame.DataFrame'>\n",
      "RangeIndex: 28678 entries, 0 to 28677\n",
      "Data columns (total 29 columns):\n",
      " #   Column  Non-Null Count  Dtype  \n",
      "---  ------  --------------  -----  \n",
      " 0   V1      28678 non-null  float64\n",
      " 1   V2      28678 non-null  float64\n",
      " 2   V3      28678 non-null  float64\n",
      " 3   V4      28678 non-null  float64\n",
      " 4   V5      28678 non-null  float64\n",
      " 5   V6      28678 non-null  float64\n",
      " 6   V7      28678 non-null  float64\n",
      " 7   V8      28678 non-null  float64\n",
      " 8   V9      28678 non-null  float64\n",
      " 9   V10     28678 non-null  float64\n",
      " 10  V11     28678 non-null  float64\n",
      " 11  V12     28678 non-null  float64\n",
      " 12  V13     28678 non-null  float64\n",
      " 13  V14     28678 non-null  float64\n",
      " 14  V15     28678 non-null  float64\n",
      " 15  V16     28678 non-null  float64\n",
      " 16  V17     28678 non-null  float64\n",
      " 17  V18     28678 non-null  float64\n",
      " 18  V19     28678 non-null  float64\n",
      " 19  V20     28678 non-null  float64\n",
      " 20  V21     28678 non-null  float64\n",
      " 21  V22     28678 non-null  float64\n",
      " 22  V23     28678 non-null  float64\n",
      " 23  V24     28678 non-null  float64\n",
      " 24  V25     28678 non-null  float64\n",
      " 25  V26     28678 non-null  float64\n",
      " 26  V27     28678 non-null  float64\n",
      " 27  V28     28678 non-null  float64\n",
      " 28  Class   28678 non-null  int64  \n",
      "dtypes: float64(28), int64(1)\n",
      "memory usage: 6.3 MB\n"
     ]
    }
   ],
   "source": [
    "# 데이터 형태\n",
    "credit.info()"
   ]
  },
  {
   "cell_type": "code",
   "execution_count": 5,
   "metadata": {},
   "outputs": [
    {
     "data": {
      "text/html": [
       "<div>\n",
       "<style scoped>\n",
       "    .dataframe tbody tr th:only-of-type {\n",
       "        vertical-align: middle;\n",
       "    }\n",
       "\n",
       "    .dataframe tbody tr th {\n",
       "        vertical-align: top;\n",
       "    }\n",
       "\n",
       "    .dataframe thead th {\n",
       "        text-align: right;\n",
       "    }\n",
       "</style>\n",
       "<table border=\"1\" class=\"dataframe\">\n",
       "  <thead>\n",
       "    <tr style=\"text-align: right;\">\n",
       "      <th></th>\n",
       "      <th>V1</th>\n",
       "      <th>V2</th>\n",
       "      <th>V3</th>\n",
       "      <th>V4</th>\n",
       "      <th>V5</th>\n",
       "      <th>V6</th>\n",
       "      <th>V7</th>\n",
       "      <th>V8</th>\n",
       "      <th>V9</th>\n",
       "      <th>V10</th>\n",
       "      <th>...</th>\n",
       "      <th>V20</th>\n",
       "      <th>V21</th>\n",
       "      <th>V22</th>\n",
       "      <th>V23</th>\n",
       "      <th>V24</th>\n",
       "      <th>V25</th>\n",
       "      <th>V26</th>\n",
       "      <th>V27</th>\n",
       "      <th>V28</th>\n",
       "      <th>Class</th>\n",
       "    </tr>\n",
       "  </thead>\n",
       "  <tbody>\n",
       "    <tr>\n",
       "      <th>count</th>\n",
       "      <td>28678.000000</td>\n",
       "      <td>28678.000000</td>\n",
       "      <td>28678.000000</td>\n",
       "      <td>28678.000000</td>\n",
       "      <td>28678.000000</td>\n",
       "      <td>28678.000000</td>\n",
       "      <td>28678.000000</td>\n",
       "      <td>28678.000000</td>\n",
       "      <td>28678.000000</td>\n",
       "      <td>28678.000000</td>\n",
       "      <td>...</td>\n",
       "      <td>28678.000000</td>\n",
       "      <td>28678.000000</td>\n",
       "      <td>28678.000000</td>\n",
       "      <td>28678.000000</td>\n",
       "      <td>28678.000000</td>\n",
       "      <td>28678.000000</td>\n",
       "      <td>28678.000000</td>\n",
       "      <td>28678.000000</td>\n",
       "      <td>28678.000000</td>\n",
       "      <td>28678.000000</td>\n",
       "    </tr>\n",
       "    <tr>\n",
       "      <th>mean</th>\n",
       "      <td>-0.015438</td>\n",
       "      <td>0.053653</td>\n",
       "      <td>-0.046031</td>\n",
       "      <td>0.037348</td>\n",
       "      <td>-0.033724</td>\n",
       "      <td>-0.003299</td>\n",
       "      <td>-0.051054</td>\n",
       "      <td>0.006064</td>\n",
       "      <td>-0.018530</td>\n",
       "      <td>-0.041149</td>\n",
       "      <td>...</td>\n",
       "      <td>0.002633</td>\n",
       "      <td>0.010289</td>\n",
       "      <td>-0.000656</td>\n",
       "      <td>-0.004800</td>\n",
       "      <td>-0.000897</td>\n",
       "      <td>-0.001989</td>\n",
       "      <td>-0.000765</td>\n",
       "      <td>0.000948</td>\n",
       "      <td>0.001535</td>\n",
       "      <td>0.008578</td>\n",
       "    </tr>\n",
       "    <tr>\n",
       "      <th>std</th>\n",
       "      <td>2.031529</td>\n",
       "      <td>1.616186</td>\n",
       "      <td>1.758169</td>\n",
       "      <td>1.482109</td>\n",
       "      <td>1.486998</td>\n",
       "      <td>1.339259</td>\n",
       "      <td>1.454827</td>\n",
       "      <td>1.364342</td>\n",
       "      <td>1.134065</td>\n",
       "      <td>1.252593</td>\n",
       "      <td>...</td>\n",
       "      <td>0.720307</td>\n",
       "      <td>0.847152</td>\n",
       "      <td>0.739469</td>\n",
       "      <td>0.593663</td>\n",
       "      <td>0.603349</td>\n",
       "      <td>0.517968</td>\n",
       "      <td>0.483852</td>\n",
       "      <td>0.397075</td>\n",
       "      <td>0.296736</td>\n",
       "      <td>0.092221</td>\n",
       "    </tr>\n",
       "    <tr>\n",
       "      <th>min</th>\n",
       "      <td>-30.552380</td>\n",
       "      <td>-42.172688</td>\n",
       "      <td>-31.103685</td>\n",
       "      <td>-5.560118</td>\n",
       "      <td>-42.147898</td>\n",
       "      <td>-21.929312</td>\n",
       "      <td>-41.506796</td>\n",
       "      <td>-39.267378</td>\n",
       "      <td>-13.434066</td>\n",
       "      <td>-24.403185</td>\n",
       "      <td>...</td>\n",
       "      <td>-21.387122</td>\n",
       "      <td>-21.453736</td>\n",
       "      <td>-8.887017</td>\n",
       "      <td>-36.666000</td>\n",
       "      <td>-2.718024</td>\n",
       "      <td>-6.712624</td>\n",
       "      <td>-2.241620</td>\n",
       "      <td>-7.418878</td>\n",
       "      <td>-9.617915</td>\n",
       "      <td>0.000000</td>\n",
       "    </tr>\n",
       "    <tr>\n",
       "      <th>25%</th>\n",
       "      <td>-0.916927</td>\n",
       "      <td>-0.575381</td>\n",
       "      <td>-0.899872</td>\n",
       "      <td>-0.843321</td>\n",
       "      <td>-0.714901</td>\n",
       "      <td>-0.763757</td>\n",
       "      <td>-0.568146</td>\n",
       "      <td>-0.206103</td>\n",
       "      <td>-0.661909</td>\n",
       "      <td>-0.543450</td>\n",
       "      <td>...</td>\n",
       "      <td>-0.209678</td>\n",
       "      <td>-0.225520</td>\n",
       "      <td>-0.539244</td>\n",
       "      <td>-0.160583</td>\n",
       "      <td>-0.356047</td>\n",
       "      <td>-0.318619</td>\n",
       "      <td>-0.327343</td>\n",
       "      <td>-0.070558</td>\n",
       "      <td>-0.052189</td>\n",
       "      <td>0.000000</td>\n",
       "    </tr>\n",
       "    <tr>\n",
       "      <th>50%</th>\n",
       "      <td>0.020050</td>\n",
       "      <td>0.075358</td>\n",
       "      <td>0.180610</td>\n",
       "      <td>-0.008844</td>\n",
       "      <td>-0.060040</td>\n",
       "      <td>-0.271363</td>\n",
       "      <td>0.036107</td>\n",
       "      <td>0.022463</td>\n",
       "      <td>-0.055095</td>\n",
       "      <td>-0.097390</td>\n",
       "      <td>...</td>\n",
       "      <td>-0.062792</td>\n",
       "      <td>-0.028778</td>\n",
       "      <td>0.007302</td>\n",
       "      <td>-0.011199</td>\n",
       "      <td>0.040006</td>\n",
       "      <td>0.019770</td>\n",
       "      <td>-0.056260</td>\n",
       "      <td>0.002049</td>\n",
       "      <td>0.011075</td>\n",
       "      <td>0.000000</td>\n",
       "    </tr>\n",
       "    <tr>\n",
       "      <th>75%</th>\n",
       "      <td>1.317461</td>\n",
       "      <td>0.806957</td>\n",
       "      <td>1.029928</td>\n",
       "      <td>0.771958</td>\n",
       "      <td>0.613328</td>\n",
       "      <td>0.397269</td>\n",
       "      <td>0.559409</td>\n",
       "      <td>0.329606</td>\n",
       "      <td>0.605704</td>\n",
       "      <td>0.460681</td>\n",
       "      <td>...</td>\n",
       "      <td>0.131199</td>\n",
       "      <td>0.184312</td>\n",
       "      <td>0.526358</td>\n",
       "      <td>0.146835</td>\n",
       "      <td>0.437146</td>\n",
       "      <td>0.352717</td>\n",
       "      <td>0.240713</td>\n",
       "      <td>0.091637</td>\n",
       "      <td>0.078911</td>\n",
       "      <td>0.000000</td>\n",
       "    </tr>\n",
       "    <tr>\n",
       "      <th>max</th>\n",
       "      <td>2.399484</td>\n",
       "      <td>21.467203</td>\n",
       "      <td>4.069865</td>\n",
       "      <td>11.927512</td>\n",
       "      <td>32.911462</td>\n",
       "      <td>22.529298</td>\n",
       "      <td>36.677268</td>\n",
       "      <td>20.007208</td>\n",
       "      <td>8.113152</td>\n",
       "      <td>15.236028</td>\n",
       "      <td>...</td>\n",
       "      <td>26.237391</td>\n",
       "      <td>27.202839</td>\n",
       "      <td>8.361985</td>\n",
       "      <td>9.637187</td>\n",
       "      <td>3.948061</td>\n",
       "      <td>2.510401</td>\n",
       "      <td>3.122747</td>\n",
       "      <td>11.135740</td>\n",
       "      <td>14.929133</td>\n",
       "      <td>1.000000</td>\n",
       "    </tr>\n",
       "  </tbody>\n",
       "</table>\n",
       "<p>8 rows × 29 columns</p>\n",
       "</div>"
      ],
      "text/plain": [
       "                 V1            V2            V3            V4            V5  \\\n",
       "count  28678.000000  28678.000000  28678.000000  28678.000000  28678.000000   \n",
       "mean      -0.015438      0.053653     -0.046031      0.037348     -0.033724   \n",
       "std        2.031529      1.616186      1.758169      1.482109      1.486998   \n",
       "min      -30.552380    -42.172688    -31.103685     -5.560118    -42.147898   \n",
       "25%       -0.916927     -0.575381     -0.899872     -0.843321     -0.714901   \n",
       "50%        0.020050      0.075358      0.180610     -0.008844     -0.060040   \n",
       "75%        1.317461      0.806957      1.029928      0.771958      0.613328   \n",
       "max        2.399484     21.467203      4.069865     11.927512     32.911462   \n",
       "\n",
       "                 V6            V7            V8            V9           V10  \\\n",
       "count  28678.000000  28678.000000  28678.000000  28678.000000  28678.000000   \n",
       "mean      -0.003299     -0.051054      0.006064     -0.018530     -0.041149   \n",
       "std        1.339259      1.454827      1.364342      1.134065      1.252593   \n",
       "min      -21.929312    -41.506796    -39.267378    -13.434066    -24.403185   \n",
       "25%       -0.763757     -0.568146     -0.206103     -0.661909     -0.543450   \n",
       "50%       -0.271363      0.036107      0.022463     -0.055095     -0.097390   \n",
       "75%        0.397269      0.559409      0.329606      0.605704      0.460681   \n",
       "max       22.529298     36.677268     20.007208      8.113152     15.236028   \n",
       "\n",
       "       ...           V20           V21           V22           V23  \\\n",
       "count  ...  28678.000000  28678.000000  28678.000000  28678.000000   \n",
       "mean   ...      0.002633      0.010289     -0.000656     -0.004800   \n",
       "std    ...      0.720307      0.847152      0.739469      0.593663   \n",
       "min    ...    -21.387122    -21.453736     -8.887017    -36.666000   \n",
       "25%    ...     -0.209678     -0.225520     -0.539244     -0.160583   \n",
       "50%    ...     -0.062792     -0.028778      0.007302     -0.011199   \n",
       "75%    ...      0.131199      0.184312      0.526358      0.146835   \n",
       "max    ...     26.237391     27.202839      8.361985      9.637187   \n",
       "\n",
       "                V24           V25           V26           V27           V28  \\\n",
       "count  28678.000000  28678.000000  28678.000000  28678.000000  28678.000000   \n",
       "mean      -0.000897     -0.001989     -0.000765      0.000948      0.001535   \n",
       "std        0.603349      0.517968      0.483852      0.397075      0.296736   \n",
       "min       -2.718024     -6.712624     -2.241620     -7.418878     -9.617915   \n",
       "25%       -0.356047     -0.318619     -0.327343     -0.070558     -0.052189   \n",
       "50%        0.040006      0.019770     -0.056260      0.002049      0.011075   \n",
       "75%        0.437146      0.352717      0.240713      0.091637      0.078911   \n",
       "max        3.948061      2.510401      3.122747     11.135740     14.929133   \n",
       "\n",
       "              Class  \n",
       "count  28678.000000  \n",
       "mean       0.008578  \n",
       "std        0.092221  \n",
       "min        0.000000  \n",
       "25%        0.000000  \n",
       "50%        0.000000  \n",
       "75%        0.000000  \n",
       "max        1.000000  \n",
       "\n",
       "[8 rows x 29 columns]"
      ]
     },
     "execution_count": 5,
     "metadata": {},
     "output_type": "execute_result"
    }
   ],
   "source": [
    "# 변수들 통계값\n",
    "credit.describe()"
   ]
  },
  {
   "cell_type": "code",
   "execution_count": 6,
   "metadata": {},
   "outputs": [
    {
     "data": {
      "text/plain": [
       "V1       0\n",
       "V2       0\n",
       "V3       0\n",
       "V4       0\n",
       "V5       0\n",
       "V6       0\n",
       "V7       0\n",
       "V8       0\n",
       "V9       0\n",
       "V10      0\n",
       "V11      0\n",
       "V12      0\n",
       "V13      0\n",
       "V14      0\n",
       "V15      0\n",
       "V16      0\n",
       "V17      0\n",
       "V18      0\n",
       "V19      0\n",
       "V20      0\n",
       "V21      0\n",
       "V22      0\n",
       "V23      0\n",
       "V24      0\n",
       "V25      0\n",
       "V26      0\n",
       "V27      0\n",
       "V28      0\n",
       "Class    0\n",
       "dtype: int64"
      ]
     },
     "execution_count": 6,
     "metadata": {},
     "output_type": "execute_result"
    }
   ],
   "source": [
    "# 결측치 확인 \n",
    "credit.isna().sum()"
   ]
  },
  {
   "cell_type": "code",
   "execution_count": 8,
   "metadata": {},
   "outputs": [
    {
     "name": "stdout",
     "output_type": "stream",
     "text": [
      "target distribution :  0.008578004044912477\n",
      "fraud data :  246\n"
     ]
    }
   ],
   "source": [
    "print('target distribution : ', credit.Class.mean()) # 전체 데이터의 0.8% 많이 사기 거래 데이터 이다.\n",
    "print('fraud data : ', credit.Class.sum()) # 총 28678건의 데이터중에 246개 만이 사기 거래 데이터 이다."
   ]
  },
  {
   "cell_type": "code",
   "execution_count": 9,
   "metadata": {},
   "outputs": [
    {
     "data": {
      "text/html": [
       "<div>\n",
       "<style scoped>\n",
       "    .dataframe tbody tr th:only-of-type {\n",
       "        vertical-align: middle;\n",
       "    }\n",
       "\n",
       "    .dataframe tbody tr th {\n",
       "        vertical-align: top;\n",
       "    }\n",
       "\n",
       "    .dataframe thead th {\n",
       "        text-align: right;\n",
       "    }\n",
       "</style>\n",
       "<table border=\"1\" class=\"dataframe\">\n",
       "  <thead>\n",
       "    <tr style=\"text-align: right;\">\n",
       "      <th></th>\n",
       "      <th>Class</th>\n",
       "      <th>Count</th>\n",
       "    </tr>\n",
       "  </thead>\n",
       "  <tbody>\n",
       "    <tr>\n",
       "      <th>0</th>\n",
       "      <td>0</td>\n",
       "      <td>28432</td>\n",
       "    </tr>\n",
       "    <tr>\n",
       "      <th>1</th>\n",
       "      <td>1</td>\n",
       "      <td>246</td>\n",
       "    </tr>\n",
       "  </tbody>\n",
       "</table>\n",
       "</div>"
      ],
      "text/plain": [
       "   Class  Count\n",
       "0      0  28432\n",
       "1      1    246"
      ]
     },
     "execution_count": 9,
     "metadata": {},
     "output_type": "execute_result"
    }
   ],
   "source": [
    "credit.Class.value_counts().to_frame().reset_index().rename(columns = {\"index\":\"Class\", \"Class\":\"Count\"})"
   ]
  },
  {
   "cell_type": "markdown",
   "metadata": {},
   "source": [
    "* Target의 분포를 보면 전체의 0.8% 만이 신용카드 사기인 데이터로 unbalance 데이터이다.\n",
    "* 이 점을 유의하고 모델의 성능지표를 설정해야한다."
   ]
  },
  {
   "cell_type": "markdown",
   "metadata": {},
   "source": [
    "## Logistic Regression "
   ]
  },
  {
   "cell_type": "code",
   "execution_count": 10,
   "metadata": {},
   "outputs": [],
   "source": [
    "from sklearn.linear_model import LogisticRegression\n",
    "from sklearn.model_selection import train_test_split\n",
    "from sklearn.metrics import *"
   ]
  },
  {
   "cell_type": "code",
   "execution_count": 11,
   "metadata": {},
   "outputs": [],
   "source": [
    "y = credit.Class\n",
    "credit.drop(columns = 'Class', axis = 1 , inplace= True)"
   ]
  },
  {
   "cell_type": "code",
   "execution_count": 12,
   "metadata": {},
   "outputs": [],
   "source": [
    "X_train, X_test, y_train, y_test = train_test_split(credit, y, test_size = 0.3, random_state = 55)"
   ]
  },
  {
   "cell_type": "code",
   "execution_count": 13,
   "metadata": {},
   "outputs": [
    {
     "data": {
      "text/plain": [
       "LogisticRegression()"
      ]
     },
     "execution_count": 13,
     "metadata": {},
     "output_type": "execute_result"
    }
   ],
   "source": [
    "# Logistic Regression\n",
    "lr = LogisticRegression()\n",
    "\n",
    "lr.fit(X_train, y_train)"
   ]
  },
  {
   "cell_type": "code",
   "execution_count": 14,
   "metadata": {},
   "outputs": [
    {
     "name": "stdout",
     "output_type": "stream",
     "text": [
      "[0 0 0 ... 0 0 0]\n",
      "[[9.99831675e-01 1.68325285e-04]\n",
      " [9.96952760e-01 3.04723960e-03]\n",
      " [9.99879727e-01 1.20273209e-04]\n",
      " ...\n",
      " [9.99871942e-01 1.28058167e-04]\n",
      " [9.99962640e-01 3.73598021e-05]\n",
      " [9.89457732e-01 1.05422679e-02]]\n",
      "Accuracy :  0.9980571884029092\n"
     ]
    }
   ],
   "source": [
    "pred = lr.predict(X_test)\n",
    "pred_proba = lr.predict_proba(X_test)\n",
    "\n",
    "print(pred)     # class predict\n",
    "print(pred_proba) # class predict_proba\n",
    "print('Accuracy : ', lr.score(X_train, y_train))"
   ]
  },
  {
   "cell_type": "code",
   "execution_count": 15,
   "metadata": {},
   "outputs": [
    {
     "data": {
      "text/html": [
       "<div>\n",
       "<style scoped>\n",
       "    .dataframe tbody tr th:only-of-type {\n",
       "        vertical-align: middle;\n",
       "    }\n",
       "\n",
       "    .dataframe tbody tr th {\n",
       "        vertical-align: top;\n",
       "    }\n",
       "\n",
       "    .dataframe thead th {\n",
       "        text-align: right;\n",
       "    }\n",
       "</style>\n",
       "<table border=\"1\" class=\"dataframe\">\n",
       "  <thead>\n",
       "    <tr style=\"text-align: right;\">\n",
       "      <th></th>\n",
       "      <th>PN</th>\n",
       "      <th>PP</th>\n",
       "    </tr>\n",
       "  </thead>\n",
       "  <tbody>\n",
       "    <tr>\n",
       "      <th>RN</th>\n",
       "      <td>8523</td>\n",
       "      <td>5</td>\n",
       "    </tr>\n",
       "    <tr>\n",
       "      <th>RP</th>\n",
       "      <td>13</td>\n",
       "      <td>63</td>\n",
       "    </tr>\n",
       "  </tbody>\n",
       "</table>\n",
       "</div>"
      ],
      "text/plain": [
       "      PN  PP\n",
       "RN  8523   5\n",
       "RP    13  63"
      ]
     },
     "execution_count": 15,
     "metadata": {},
     "output_type": "execute_result"
    }
   ],
   "source": [
    "cm = pd.DataFrame(confusion_matrix(y_test, pred), index=['RN','RP'], columns = ['PN','PP'])\n",
    "cm "
   ]
  },
  {
   "cell_type": "markdown",
   "metadata": {},
   "source": [
    "* 위의 결과는 Confusion Matrix의 결과이다. TN : 실제 1이 아니고 예측 1이 아닌 경우, TP : 실제 1이고 예측 1인 경우, FN : 실제 1이고 예측 1이 아닌 경우, FP : 실제 1이고 예측 1인 경우\n",
    "* 실제 카드 사기 거래가 아닌 8528개 데이터 중 5개의 경우만 오분류를 하였고, 8523개의 경우는 정분류를 하였다.\n",
    "* 실제 카드 사기 거래인 76개 데이터 중 13개의 경우 오분류를 하였고, 63개의 경우 정분류를 하였다.\n",
    "* 카드사기라고 예측한 경우 실제 카드 사기가 아닌 5개의 경우를 제외하고 모두 카드 사기라고 예측을 하였다.\n",
    "* 하지만 카드사기가 아니라고 예측한 경우중 실제 카드 사기인 13개의 경우를 오분류하였다. \n"
   ]
  },
  {
   "cell_type": "code",
   "execution_count": 16,
   "metadata": {},
   "outputs": [
    {
     "name": "stdout",
     "output_type": "stream",
     "text": [
      "Accuracy :  0.997907949790795\n",
      "Precision :  0.9264705882352942\n",
      "Recall :  0.8289473684210527\n",
      "Specificity :  0.9994136960600375\n",
      "f1_score :  0.875\n"
     ]
    }
   ],
   "source": [
    "tn, fp, fn, tp = confusion_matrix(y_test, pred).ravel()\n",
    "\n",
    "accuracy = (tp + tn)/ (tp+fn+fp+tn)\n",
    "precision = tp / (tp + fp)\n",
    "recall = tp / (tp + fn)\n",
    "specificity = tn / (fp + tn)\n",
    "f1_score =  2* (precision* recall) / (precision + recall)\n",
    "\n",
    "print(\"Accuracy : \", accuracy)\n",
    "print(\"Precision : \", precision)\n",
    "print(\"Recall : \", recall)\n",
    "print('Specificity : ', specificity)\n",
    "print(\"f1_score : \", f1_score)"
   ]
  },
  {
   "cell_type": "code",
   "execution_count": 17,
   "metadata": {},
   "outputs": [
    {
     "name": "stdout",
     "output_type": "stream",
     "text": [
      "              precision    recall  f1-score   support\n",
      "\n",
      "       not 1    0.99848   0.99941   0.99895      8528\n",
      "           1    0.92647   0.82895   0.87500        76\n",
      "\n",
      "    accuracy                        0.99791      8604\n",
      "   macro avg    0.96247   0.91418   0.93697      8604\n",
      "weighted avg    0.99784   0.99791   0.99785      8604\n",
      "\n",
      "ROC AUC SCORE :  0.9141805322405451\n"
     ]
    }
   ],
   "source": [
    "print(classification_report(y_test, pred, digits= 5, target_names=[\"not 1\", \" 1\"]))\n",
    "print(\"ROC AUC SCORE : \", roc_auc_score(y_test, pred))"
   ]
  },
  {
   "cell_type": "markdown",
   "metadata": {},
   "source": [
    "#### PR Curve"
   ]
  },
  {
   "cell_type": "code",
   "execution_count": 18,
   "metadata": {},
   "outputs": [],
   "source": [
    "from sklearn.metrics import precision_recall_curve\n",
    "from sklearn.metrics import average_precision_score\n",
    "\n",
    "def plot_precision_recall_curve(model, precisions, recalls, AP) :\n",
    "    AP = ' (' + str(round(AP, 2)) + ')'\n",
    "    plt.plot(recalls, precisions, label=model+AP)\n",
    "    plt.axis([0,1,0,1])\n",
    "    plt.xlabel('Recall')\n",
    "    plt.ylabel('Precision')\n",
    "    plt.title('PR curve')\n",
    "    plt.legend()\n"
   ]
  },
  {
   "cell_type": "code",
   "execution_count": 19,
   "metadata": {},
   "outputs": [
    {
     "data": {
      "image/png": "[encoded data removed]",
      "text/plain": [
       "<Figure size 432x288 with 1 Axes>"
      ]
     },
     "metadata": {
      "needs_background": "light"
     },
     "output_type": "display_data"
    }
   ],
   "source": [
    "precisions, recalls, thresholds = precision_recall_curve(y_test, pred_proba[:,1])\n",
    "average_precision = average_precision_score(y_test, pred)\n",
    "plot_precision_recall_curve('Logistic Regression', precisions, recalls, average_precision)"
   ]
  },
  {
   "cell_type": "markdown",
   "metadata": {},
   "source": [
    "#### PR by threshold"
   ]
  },
  {
   "cell_type": "code",
   "execution_count": 20,
   "metadata": {},
   "outputs": [],
   "source": [
    "def plot_precision_recall_by_threshold(precisions, recalls, thresholds) :\n",
    "    # X축을 threshold값으로, Y축은 정밀도, 재현율 값으로 각각 Plotting. 정밀도는 점선으로 표시\n",
    "    threshold_boundary = thresholds.shape[0]\n",
    "    plt.plot(thresholds, precisions[0:threshold_boundary], linestyle='--', label='precision')\n",
    "    plt.plot(thresholds, recalls[0:threshold_boundary],label='recall')\n",
    "    # threshold 값 X 축의 Scale을 0.1 단위로 변경\n",
    "    _, end = plt.xlim()\n",
    "    plt.xticks(np.round(np.arange(0, end, 0.1),2))    \n",
    "    plt.xlabel('Threshold'); \n",
    "    plt.ylabel('Precision & Recall')\n",
    "    plt.legend(); plt.grid(); plt.title('PR by threshold')\n",
    "    plt.show()"
   ]
  },
  {
   "cell_type": "code",
   "execution_count": 21,
   "metadata": {},
   "outputs": [
    {
     "data": {
      "image/png": "[encoded data removed]",
      "text/plain": [
       "<Figure size 432x288 with 1 Axes>"
      ]
     },
     "metadata": {
      "needs_background": "light"
     },
     "output_type": "display_data"
    }
   ],
   "source": [
    "plot_precision_recall_by_threshold(precisions, recalls, thresholds)"
   ]
  },
  {
   "cell_type": "markdown",
   "metadata": {},
   "source": [
    "#### ROC Curve"
   ]
  },
  {
   "cell_type": "code",
   "execution_count": 22,
   "metadata": {},
   "outputs": [],
   "source": [
    "def plot_roc_curve(fpr, tpr, recall ,model, color = None) :\n",
    "    model = model + '(auc = %0.3f)'% auc(fpr, tpr)\n",
    "    plt.plot(fpr, tpr, label=model, color=color)\n",
    "    plt.plot([0, 1], [0, 1], color='navy', linestyle='--')\n",
    "    plt.plot([recall], 'ro')\n",
    "    plt.axis([0,1,0,1])\n",
    "    plt.xlabel('FPR (1 - specificity)')\n",
    "    plt.ylabel('TPR (recall)')\n",
    "    plt.title('ROC curve')\n",
    "    plt.legend(loc=\"lower right\")"
   ]
  },
  {
   "cell_type": "code",
   "execution_count": 23,
   "metadata": {},
   "outputs": [
    {
     "data": {
      "image/png": "[encoded data removed]",
      "text/plain": [
       "<Figure size 432x288 with 1 Axes>"
      ]
     },
     "metadata": {
      "needs_background": "light"
     },
     "output_type": "display_data"
    }
   ],
   "source": [
    "fpr, tpr , thresholds= roc_curve(y_test, pred_proba[:,1])\n",
    "plot_roc_curve(fpr,tpr,recall ,'logistic regression')"
   ]
  },
  {
   "cell_type": "markdown",
   "metadata": {},
   "source": [
    "    이 모델은 unbalance data 이므로 Accuracy 로만 평가하기 힘들기 때문에 precision, recall, f1-score을 확인해야 한다.\n",
    "    성능 지표를 확인해 보면 precision이 92%로 우수한 성능을 보이지만 recall은 82%로 precision성능에 미치지 못한다.\n",
    "\n",
    "    즉, 카드 사기거래라고 예측한 것이 실제 카드 사기거래인 경우는 우수하지만, 실제로 카드 사기거래인것중에 카드 사기거래라고 예측한 경우는 앞의 기준에 미치지 못한다.\n",
    "    \n",
    "    또한 , PR Curve는  77%에 비해 ROC Curve는 98.5%로 좋은 성능을 내고 있다.\n",
    "   \n",
    "    카드 사기의 경우 실제 사기거래인것을 사기거래가 아니라고 잘못 판단할 경우가 실제 사기거래가 아닌것을 사기거래라고 판단하는 경우보다 비용이 크기 때문에 Recall의 성능을 올려하한다. 따라서 Recall을 주요 성능지표로 지정하고 모델을 개선해야 한다.\n",
    "    \n",
    "    결론적으로 Recall을 개선하기 위해 기존에 사용하던 임계값을 변화하여 평가지표 개선을 고려해야 한다."
   ]
  },
  {
   "cell_type": "code",
   "execution_count": 24,
   "metadata": {},
   "outputs": [
    {
     "data": {
      "text/plain": [
       "0.02157026464876801"
      ]
     },
     "execution_count": 24,
     "metadata": {},
     "output_type": "execute_result"
    }
   ],
   "source": [
    "thresholds[np.argmax(tpr - fpr)]"
   ]
  },
  {
   "cell_type": "markdown",
   "metadata": {},
   "source": [
    "### Change Threshold"
   ]
  },
  {
   "cell_type": "code",
   "execution_count": 25,
   "metadata": {},
   "outputs": [],
   "source": [
    "def get_score_by_threshold(y_true, y_pred, threshold) :\n",
    "    \n",
    "    tn, fp, fn, tp = confusion_matrix(y_true, y_pred).ravel()\n",
    "    \n",
    "    accuracy = (tp + tn)/ (tp+fn+fp+tn)\n",
    "    precision = (tp) / (tp + fp)\n",
    "    recall = (tp) / (tp + fn)\n",
    "    specificity = (tn) / (fp + tn)\n",
    "    f1_score =  2* (precision* recall) / (precision + recall)\n",
    "    \n",
    "    print('threshold : ', threshold)\n",
    "    print(\"Accuracy : \", accuracy)\n",
    "    print(\"Precision : \", precision)\n",
    "    print(\"Recall : \", recall)\n",
    "    print(\"Specificity : \", specificity)\n",
    "    print(\"f1_score : \", f1_score)\n"
   ]
  },
  {
   "cell_type": "code",
   "execution_count": 26,
   "metadata": {
    "scrolled": false
   },
   "outputs": [
    {
     "name": "stdout",
     "output_type": "stream",
     "text": [
      "threshold :  0.0\n",
      "Accuracy :  0.008833100883310088\n",
      "Precision :  0.008833100883310088\n",
      "Recall :  1.0\n",
      "Specificity :  0.0\n",
      "f1_score :  0.01751152073732719\n",
      "---------------------------------------------------\n",
      "threshold :  0.1\n",
      "Accuracy :  0.9975592747559274\n",
      "Precision :  0.8395061728395061\n",
      "Recall :  0.8947368421052632\n",
      "Specificity :  0.9984756097560976\n",
      "f1_score :  0.8662420382165605\n",
      "---------------------------------------------------\n",
      "threshold :  0.2\n",
      "Accuracy :  0.99814039981404\n",
      "Precision :  0.9054054054054054\n",
      "Recall :  0.881578947368421\n",
      "Specificity :  0.9991791744840526\n",
      "f1_score :  0.8933333333333332\n",
      "---------------------------------------------------\n",
      "threshold :  0.30000000000000004\n",
      "Accuracy :  0.99814039981404\n",
      "Precision :  0.9166666666666666\n",
      "Recall :  0.868421052631579\n",
      "Specificity :  0.999296435272045\n",
      "f1_score :  0.8918918918918918\n",
      "---------------------------------------------------\n",
      "threshold :  0.4\n",
      "Accuracy :  0.997907949790795\n",
      "Precision :  0.9264705882352942\n",
      "Recall :  0.8289473684210527\n",
      "Specificity :  0.9994136960600375\n",
      "f1_score :  0.875\n",
      "---------------------------------------------------\n",
      "threshold :  0.5\n",
      "Accuracy :  0.997907949790795\n",
      "Precision :  0.9264705882352942\n",
      "Recall :  0.8289473684210527\n",
      "Specificity :  0.9994136960600375\n",
      "f1_score :  0.875\n",
      "---------------------------------------------------\n",
      "threshold :  0.6000000000000001\n",
      "Accuracy :  0.997907949790795\n",
      "Precision :  0.9264705882352942\n",
      "Recall :  0.8289473684210527\n",
      "Specificity :  0.9994136960600375\n",
      "f1_score :  0.875\n",
      "---------------------------------------------------\n",
      "threshold :  0.7000000000000001\n",
      "Accuracy :  0.997907949790795\n",
      "Precision :  0.9393939393939394\n",
      "Recall :  0.8157894736842105\n",
      "Specificity :  0.9995309568480301\n",
      "f1_score :  0.8732394366197183\n",
      "---------------------------------------------------\n",
      "threshold :  0.8\n",
      "Accuracy :  0.9977917247791724\n",
      "Precision :  0.9384615384615385\n",
      "Recall :  0.8026315789473685\n",
      "Specificity :  0.9995309568480301\n",
      "f1_score :  0.8652482269503547\n",
      "---------------------------------------------------\n",
      "threshold :  0.9\n",
      "Accuracy :  0.9973268247326825\n",
      "Precision :  0.9491525423728814\n",
      "Recall :  0.7368421052631579\n",
      "Specificity :  0.9996482176360225\n",
      "f1_score :  0.8296296296296296\n",
      "---------------------------------------------------\n"
     ]
    }
   ],
   "source": [
    "threshold_range = np.arange(0.0, 1.0, 0.1)\n",
    "for threshold in threshold_range :\n",
    "    new_pred = [1 if predict > threshold  else 0 for predict in lr.predict_proba(X_test)[:,1]]\n",
    "    get_score_by_threshold(y_test, new_pred, threshold)\n",
    "    print(\"---------------------------------------------------\")"
   ]
  },
  {
   "cell_type": "markdown",
   "metadata": {},
   "source": [
    "* new confusion matrix"
   ]
  },
  {
   "cell_type": "code",
   "execution_count": 27,
   "metadata": {},
   "outputs": [
    {
     "data": {
      "text/plain": [
       "array([[8521,    7],\n",
       "       [   9,   67]], dtype=int64)"
      ]
     },
     "execution_count": 27,
     "metadata": {},
     "output_type": "execute_result"
    }
   ],
   "source": [
    "new_pred = [1 if predict > 0.2  else 0 for predict in lr.predict_proba(X_test)[:,1]]\n",
    "confusion_matrix(y_test, new_pred) # change threshold"
   ]
  },
  {
   "cell_type": "code",
   "execution_count": 28,
   "metadata": {},
   "outputs": [
    {
     "name": "stdout",
     "output_type": "stream",
     "text": [
      "threshold :  0.2\n",
      "Accuracy :  0.99814039981404\n",
      "Precision :  0.9054054054054054\n",
      "Recall :  0.881578947368421\n",
      "Specificity :  0.9991791744840526\n",
      "f1_score :  0.8933333333333332\n"
     ]
    }
   ],
   "source": [
    "get_score_by_threshold(y_test, new_pred, 0.2)"
   ]
  },
  {
   "cell_type": "markdown",
   "metadata": {},
   "source": [
    "* confusion matrix"
   ]
  },
  {
   "cell_type": "code",
   "execution_count": 29,
   "metadata": {},
   "outputs": [
    {
     "data": {
      "text/plain": [
       "array([[8523,    5],\n",
       "       [  13,   63]], dtype=int64)"
      ]
     },
     "execution_count": 29,
     "metadata": {},
     "output_type": "execute_result"
    }
   ],
   "source": [
    "confusion_matrix(y_test, pred)"
   ]
  },
  {
   "cell_type": "code",
   "execution_count": 30,
   "metadata": {},
   "outputs": [
    {
     "name": "stdout",
     "output_type": "stream",
     "text": [
      "threshold :  0.5\n",
      "Accuracy :  0.997907949790795\n",
      "Precision :  0.9264705882352942\n",
      "Recall :  0.8289473684210527\n",
      "Specificity :  0.9994136960600375\n",
      "f1_score :  0.875\n"
     ]
    }
   ],
   "source": [
    "get_score_by_threshold(y_test, pred, 0.5)"
   ]
  },
  {
   "cell_type": "markdown",
   "metadata": {},
   "source": [
    "    위의 결과는 임계값의 변화에 따른 평가지표 성능의 변화를 나타냈다. confusion matrix를 확인해 보면 기존의 confusion matrix에 비해 임계값을 변화한 confusion matrix는 TN의 경우 감소하였고 TP의 경우 증가하였다 FP의 경우 증가하였지만 FN의 경우 감소한 것을 볼 수 있다. \n",
    "    \n",
    "     즉, 기존에 목표로한 Recall의 성능을 올릴 수 있게 되었다. 하지만 Precision의 경우 성능이 떨어졌지만 Precision - Recall은 trade-off 관계를 가지고 있기 때문에 감수해야하는 문제이다. 다른 성능 지표를 확인해 보면 F1-Score는 상승한 것을 볼 수 있다. 또 Accuracy, Specificity 또한 소폭 상승한것을 확인할 수 있다.\n",
    "        \n",
    "     \n",
    "     \n",
    "        \n",
    "        \n",
    "        "
   ]
  }
 ],
 "metadata": {
  "kernelspec": {
   "display_name": "Python 3",
   "language": "python",
   "name": "python3"
  },
  "language_info": {
   "codemirror_mode": {
    "name": "ipython",
    "version": 3
   },
   "file_extension": ".py",
   "mimetype": "text/x-python",
   "name": "python",
   "nbconvert_exporter": "python",
   "pygments_lexer": "ipython3",
   "version": "3.8.6"
  }
 },
 "nbformat": 4,
 "nbformat_minor": 4
}
