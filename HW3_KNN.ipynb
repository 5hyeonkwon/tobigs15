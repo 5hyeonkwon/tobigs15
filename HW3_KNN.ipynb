{
 "cells": [
  {
   "cell_type": "markdown",
   "metadata": {},
   "source": [
    "\n",
    "```\n",
    "target = Gender \n",
    "\n",
    "- User_ID : 고객 ID\n",
    "- Product_ID : 제품 ID\n",
    "- Age : 고객 연령대\n",
    "- Occupation : 고객 직업\n",
    "- City_Category : 고객 거주 도시\n",
    "- Stay_In_Current_City_Years : 현재 도시 거주 기간(년)\n",
    "- Marital_Status : 결혼 여부\n",
    "- Product_Category_1 : 구매 제품 분류(대)\n",
    "- Product_Category_2 : 구매 제품 분류(중)\n",
    "- Product_Category_3 : 구매 제품 분류(소)\n",
    "- Purchase : 구매 가격\n",
    "```\n"
   ]
  },
  {
   "cell_type": "markdown",
   "metadata": {},
   "source": [
    "### 1. 데이터 분석"
   ]
  },
  {
   "cell_type": "code",
   "execution_count": 2,
   "metadata": {},
   "outputs": [
    {
     "data": {
      "text/html": [
       "<div>\n",
       "<style scoped>\n",
       "    .dataframe tbody tr th:only-of-type {\n",
       "        vertical-align: middle;\n",
       "    }\n",
       "\n",
       "    .dataframe tbody tr th {\n",
       "        vertical-align: top;\n",
       "    }\n",
       "\n",
       "    .dataframe thead th {\n",
       "        text-align: right;\n",
       "    }\n",
       "</style>\n",
       "<table border=\"1\" class=\"dataframe\">\n",
       "  <thead>\n",
       "    <tr style=\"text-align: right;\">\n",
       "      <th></th>\n",
       "      <th>User_ID</th>\n",
       "      <th>Product_ID</th>\n",
       "      <th>Gender</th>\n",
       "      <th>Age</th>\n",
       "      <th>Occupation</th>\n",
       "      <th>City_Category</th>\n",
       "      <th>Stay_In_Current_City_Years</th>\n",
       "      <th>Marital_Status</th>\n",
       "      <th>Product_Category_1</th>\n",
       "      <th>Product_Category_2</th>\n",
       "      <th>Product_Category_3</th>\n",
       "      <th>Purchase</th>\n",
       "    </tr>\n",
       "  </thead>\n",
       "  <tbody>\n",
       "    <tr>\n",
       "      <th>0</th>\n",
       "      <td>1001088</td>\n",
       "      <td>P00046042</td>\n",
       "      <td>F</td>\n",
       "      <td>0-17</td>\n",
       "      <td>10</td>\n",
       "      <td>A</td>\n",
       "      <td>3</td>\n",
       "      <td>0</td>\n",
       "      <td>5</td>\n",
       "      <td>17.0</td>\n",
       "      <td>NaN</td>\n",
       "      <td>2010</td>\n",
       "    </tr>\n",
       "    <tr>\n",
       "      <th>1</th>\n",
       "      <td>1004493</td>\n",
       "      <td>P00347742</td>\n",
       "      <td>F</td>\n",
       "      <td>0-17</td>\n",
       "      <td>10</td>\n",
       "      <td>A</td>\n",
       "      <td>1</td>\n",
       "      <td>0</td>\n",
       "      <td>7</td>\n",
       "      <td>NaN</td>\n",
       "      <td>NaN</td>\n",
       "      <td>4483</td>\n",
       "    </tr>\n",
       "    <tr>\n",
       "      <th>2</th>\n",
       "      <td>1005302</td>\n",
       "      <td>P00048942</td>\n",
       "      <td>F</td>\n",
       "      <td>0-17</td>\n",
       "      <td>10</td>\n",
       "      <td>A</td>\n",
       "      <td>1</td>\n",
       "      <td>0</td>\n",
       "      <td>1</td>\n",
       "      <td>4.0</td>\n",
       "      <td>NaN</td>\n",
       "      <td>7696</td>\n",
       "    </tr>\n",
       "    <tr>\n",
       "      <th>3</th>\n",
       "      <td>1001348</td>\n",
       "      <td>P00145242</td>\n",
       "      <td>F</td>\n",
       "      <td>0-17</td>\n",
       "      <td>10</td>\n",
       "      <td>A</td>\n",
       "      <td>3</td>\n",
       "      <td>0</td>\n",
       "      <td>2</td>\n",
       "      <td>4.0</td>\n",
       "      <td>NaN</td>\n",
       "      <td>16429</td>\n",
       "    </tr>\n",
       "    <tr>\n",
       "      <th>4</th>\n",
       "      <td>1001348</td>\n",
       "      <td>P00106742</td>\n",
       "      <td>F</td>\n",
       "      <td>0-17</td>\n",
       "      <td>10</td>\n",
       "      <td>A</td>\n",
       "      <td>3</td>\n",
       "      <td>0</td>\n",
       "      <td>3</td>\n",
       "      <td>5.0</td>\n",
       "      <td>NaN</td>\n",
       "      <td>5780</td>\n",
       "    </tr>\n",
       "  </tbody>\n",
       "</table>\n",
       "</div>"
      ],
      "text/plain": [
       "   User_ID Product_ID Gender   Age  Occupation City_Category  \\\n",
       "0  1001088  P00046042      F  0-17          10             A   \n",
       "1  1004493  P00347742      F  0-17          10             A   \n",
       "2  1005302  P00048942      F  0-17          10             A   \n",
       "3  1001348  P00145242      F  0-17          10             A   \n",
       "4  1001348  P00106742      F  0-17          10             A   \n",
       "\n",
       "  Stay_In_Current_City_Years  Marital_Status  Product_Category_1  \\\n",
       "0                          3               0                   5   \n",
       "1                          1               0                   7   \n",
       "2                          1               0                   1   \n",
       "3                          3               0                   2   \n",
       "4                          3               0                   3   \n",
       "\n",
       "   Product_Category_2  Product_Category_3  Purchase  \n",
       "0                17.0                 NaN      2010  \n",
       "1                 NaN                 NaN      4483  \n",
       "2                 4.0                 NaN      7696  \n",
       "3                 4.0                 NaN     16429  \n",
       "4                 5.0                 NaN      5780  "
      ]
     },
     "execution_count": 2,
     "metadata": {},
     "output_type": "execute_result"
    }
   ],
   "source": [
    "data = pd.read_csv('data.csv')\n",
    "data = data.iloc[:,1:]\n",
    "data.head()"
   ]
  },
  {
   "cell_type": "code",
   "execution_count": 3,
   "metadata": {
    "scrolled": true
   },
   "outputs": [
    {
     "name": "stdout",
     "output_type": "stream",
     "text": [
      "<class 'pandas.core.frame.DataFrame'>\n",
      "RangeIndex: 4998 entries, 0 to 4997\n",
      "Data columns (total 12 columns):\n",
      " #   Column                      Non-Null Count  Dtype  \n",
      "---  ------                      --------------  -----  \n",
      " 0   User_ID                     4998 non-null   int64  \n",
      " 1   Product_ID                  4998 non-null   object \n",
      " 2   Gender                      4998 non-null   object \n",
      " 3   Age                         4998 non-null   object \n",
      " 4   Occupation                  4998 non-null   int64  \n",
      " 5   City_Category               4998 non-null   object \n",
      " 6   Stay_In_Current_City_Years  4998 non-null   object \n",
      " 7   Marital_Status              4998 non-null   int64  \n",
      " 8   Product_Category_1          4998 non-null   int64  \n",
      " 9   Product_Category_2          3465 non-null   float64\n",
      " 10  Product_Category_3          1544 non-null   float64\n",
      " 11  Purchase                    4998 non-null   int64  \n",
      "dtypes: float64(2), int64(5), object(5)\n",
      "memory usage: 468.7+ KB\n"
     ]
    },
    {
     "data": {
      "text/plain": [
       "2656"
      ]
     },
     "execution_count": 3,
     "metadata": {},
     "output_type": "execute_result"
    }
   ],
   "source": [
    "data.info()\n",
    "data.User_ID.nunique()"
   ]
  },
  {
   "cell_type": "code",
   "execution_count": 4,
   "metadata": {},
   "outputs": [
    {
     "data": {
      "text/html": [
       "<div>\n",
       "<style scoped>\n",
       "    .dataframe tbody tr th:only-of-type {\n",
       "        vertical-align: middle;\n",
       "    }\n",
       "\n",
       "    .dataframe tbody tr th {\n",
       "        vertical-align: top;\n",
       "    }\n",
       "\n",
       "    .dataframe thead th {\n",
       "        text-align: right;\n",
       "    }\n",
       "</style>\n",
       "<table border=\"1\" class=\"dataframe\">\n",
       "  <thead>\n",
       "    <tr style=\"text-align: right;\">\n",
       "      <th></th>\n",
       "      <th>User_ID</th>\n",
       "      <th>Occupation</th>\n",
       "      <th>Marital_Status</th>\n",
       "      <th>Product_Category_1</th>\n",
       "      <th>Product_Category_2</th>\n",
       "      <th>Product_Category_3</th>\n",
       "      <th>Purchase</th>\n",
       "    </tr>\n",
       "  </thead>\n",
       "  <tbody>\n",
       "    <tr>\n",
       "      <th>count</th>\n",
       "      <td>4.998000e+03</td>\n",
       "      <td>4998.000000</td>\n",
       "      <td>4998.000000</td>\n",
       "      <td>4998.000000</td>\n",
       "      <td>3465.000000</td>\n",
       "      <td>1544.000000</td>\n",
       "      <td>4998.000000</td>\n",
       "    </tr>\n",
       "    <tr>\n",
       "      <th>mean</th>\n",
       "      <td>1.003015e+06</td>\n",
       "      <td>8.036815</td>\n",
       "      <td>0.421369</td>\n",
       "      <td>5.320128</td>\n",
       "      <td>9.773737</td>\n",
       "      <td>12.766839</td>\n",
       "      <td>9234.655462</td>\n",
       "    </tr>\n",
       "    <tr>\n",
       "      <th>std</th>\n",
       "      <td>1.709910e+03</td>\n",
       "      <td>6.442697</td>\n",
       "      <td>0.493828</td>\n",
       "      <td>3.912281</td>\n",
       "      <td>5.101867</td>\n",
       "      <td>4.023591</td>\n",
       "      <td>4999.225081</td>\n",
       "    </tr>\n",
       "    <tr>\n",
       "      <th>min</th>\n",
       "      <td>1.000003e+06</td>\n",
       "      <td>0.000000</td>\n",
       "      <td>0.000000</td>\n",
       "      <td>1.000000</td>\n",
       "      <td>2.000000</td>\n",
       "      <td>3.000000</td>\n",
       "      <td>13.000000</td>\n",
       "    </tr>\n",
       "    <tr>\n",
       "      <th>25%</th>\n",
       "      <td>1.001560e+06</td>\n",
       "      <td>2.000000</td>\n",
       "      <td>0.000000</td>\n",
       "      <td>1.000000</td>\n",
       "      <td>5.000000</td>\n",
       "      <td>9.000000</td>\n",
       "      <td>5497.750000</td>\n",
       "    </tr>\n",
       "    <tr>\n",
       "      <th>50%</th>\n",
       "      <td>1.003040e+06</td>\n",
       "      <td>7.000000</td>\n",
       "      <td>0.000000</td>\n",
       "      <td>5.000000</td>\n",
       "      <td>9.000000</td>\n",
       "      <td>14.000000</td>\n",
       "      <td>8049.000000</td>\n",
       "    </tr>\n",
       "    <tr>\n",
       "      <th>75%</th>\n",
       "      <td>1.004417e+06</td>\n",
       "      <td>14.000000</td>\n",
       "      <td>1.000000</td>\n",
       "      <td>8.000000</td>\n",
       "      <td>15.000000</td>\n",
       "      <td>16.000000</td>\n",
       "      <td>12039.000000</td>\n",
       "    </tr>\n",
       "    <tr>\n",
       "      <th>max</th>\n",
       "      <td>1.006037e+06</td>\n",
       "      <td>20.000000</td>\n",
       "      <td>1.000000</td>\n",
       "      <td>20.000000</td>\n",
       "      <td>18.000000</td>\n",
       "      <td>18.000000</td>\n",
       "      <td>23913.000000</td>\n",
       "    </tr>\n",
       "  </tbody>\n",
       "</table>\n",
       "</div>"
      ],
      "text/plain": [
       "            User_ID   Occupation  Marital_Status  Product_Category_1  \\\n",
       "count  4.998000e+03  4998.000000     4998.000000         4998.000000   \n",
       "mean   1.003015e+06     8.036815        0.421369            5.320128   \n",
       "std    1.709910e+03     6.442697        0.493828            3.912281   \n",
       "min    1.000003e+06     0.000000        0.000000            1.000000   \n",
       "25%    1.001560e+06     2.000000        0.000000            1.000000   \n",
       "50%    1.003040e+06     7.000000        0.000000            5.000000   \n",
       "75%    1.004417e+06    14.000000        1.000000            8.000000   \n",
       "max    1.006037e+06    20.000000        1.000000           20.000000   \n",
       "\n",
       "       Product_Category_2  Product_Category_3      Purchase  \n",
       "count         3465.000000         1544.000000   4998.000000  \n",
       "mean             9.773737           12.766839   9234.655462  \n",
       "std              5.101867            4.023591   4999.225081  \n",
       "min              2.000000            3.000000     13.000000  \n",
       "25%              5.000000            9.000000   5497.750000  \n",
       "50%              9.000000           14.000000   8049.000000  \n",
       "75%             15.000000           16.000000  12039.000000  \n",
       "max             18.000000           18.000000  23913.000000  "
      ]
     },
     "execution_count": 4,
     "metadata": {},
     "output_type": "execute_result"
    }
   ],
   "source": [
    "data.describe()"
   ]
  },
  {
   "cell_type": "markdown",
   "metadata": {},
   "source": [
    "#### 범주형 데이터"
   ]
  },
  {
   "cell_type": "code",
   "execution_count": 5,
   "metadata": {},
   "outputs": [
    {
     "data": {
      "text/plain": [
       "0.7533013205282113"
      ]
     },
     "execution_count": 5,
     "metadata": {},
     "output_type": "execute_result"
    }
   ],
   "source": [
    "data['Gender'].value_counts()[0]/ len(data)"
   ]
  },
  {
   "cell_type": "code",
   "execution_count": 6,
   "metadata": {
    "scrolled": true
   },
   "outputs": [
    {
     "name": "stdout",
     "output_type": "stream",
     "text": [
      "Gender ratio : 0.75\n",
      "Product nunique : 1797\n",
      "Age distribution : {'26-35': 1996, '36-45': 1000, '18-25': 906, '46-50': 414, '51-55': 350, '55+': 195, '0-17': 137} | nunique : 7\n",
      "Occupation distribution : {4: 706, 0: 572, 7: 535, 1: 460, 17: 339, 12: 305, 20: 285, 2: 251, 14: 245, 16: 244, 6: 186, 3: 160, 15: 133, 10: 122, 5: 98, 11: 95, 19: 73, 13: 65, 18: 56, 9: 50, 8: 18} | nunique : 21\n",
      "City_Category distribution : {'B': 2102, 'C': 1555, 'A': 1341} | nunique : 3\n",
      "Marital ratio : 0.58\n",
      "Product Category 1 : {5: 1407, 1: 1285, 8: 995, 2: 227, 11: 206, 3: 193, 6: 193, 4: 107, 16: 78, 15: 57, 13: 43, 10: 41, 7: 40, 20: 31, 12: 31, 19: 20, 14: 19, 18: 18, 17: 6, 9: 1} | number of unique : 20\n",
      "Product Category 2 : {8.0: 588, 14.0: 496, 2.0: 448, 16.0: 392, 15.0: 345, 5.0: 258, 4.0: 246, 6.0: 148, 17.0: 132, 11.0: 110, 13.0: 102, 9.0: 65, 12.0: 40, 3.0: 35, 10.0: 30, 18.0: 23, 7.0: 7} | number of unique : 17\n",
      "Product Category 3 : {16.0: 318, 15.0: 260, 14.0: 162, 17.0: 146, 5.0: 140, 8.0: 116, 9.0: 105, 12.0: 96, 13.0: 50, 6.0: 44, 18.0: 44, 10.0: 23, 11.0: 22, 4.0: 17, 3.0: 1} | number of unique : 15\n"
     ]
    }
   ],
   "source": [
    "print('Gender ratio : {}'.format(round(data['Gender'].value_counts()[0]/ len(data), 2)))\n",
    "\n",
    "print('Product nunique : {}'.format(data.Product_ID.nunique()))\n",
    "print('Age distribution : {} | nunique : {}'.format(dict(data.Age.value_counts()), data.Age.nunique()))\n",
    "print('Occupation distribution : {} | nunique : {}'.format(dict(data.Occupation.value_counts()), data.Occupation.nunique()))\n",
    "print('City_Category distribution : {} | nunique : {}'.format(dict(data.City_Category.value_counts()), data.City_Category.nunique()))\n",
    "print('Marital ratio : {}'.format(round(data['Marital_Status'].value_counts()[0]/ len(data),2)))\n",
    "print('Product Category 1 : {} | number of unique : {}'.format(dict(data.Product_Category_1.value_counts()), data.Product_Category_1.nunique()))\n",
    "print('Product Category 2 : {} | number of unique : {}'.format(dict(data.Product_Category_2.value_counts()), data.Product_Category_2.nunique()))\n",
    "print('Product Category 3 : {} | number of unique : {}'.format(dict(data.Product_Category_3.value_counts()), data.Product_Category_3.nunique()))                                \n"
   ]
  },
  {
   "cell_type": "code",
   "execution_count": 7,
   "metadata": {},
   "outputs": [
    {
     "data": {
      "image/png": "[encoded data removed]",
      "text/plain": [
       "<Figure size 576x396 with 1 Axes>"
      ]
     },
     "metadata": {},
     "output_type": "display_data"
    }
   ],
   "source": [
    "f, axes = plt.subplots(1,1)\n",
    "data.Gender.value_counts().plot.pie(explode = [0, 0.1], autopct = '%1.1f%%', ax = axes, shadow = True)\n",
    "axes.set_title('Gender distribution')\n",
    "plt.show()\n"
   ]
  },
  {
   "cell_type": "code",
   "execution_count": 8,
   "metadata": {
    "scrolled": false
   },
   "outputs": [
    {
     "data": {
      "image/png": "[encoded data removed]",
      "text/plain": [
       "<Figure size 576x396 with 1 Axes>"
      ]
     },
     "metadata": {},
     "output_type": "display_data"
    },
    {
     "data": {
      "image/png": "[encoded data removed]",
      "text/plain": [
       "<Figure size 576x396 with 1 Axes>"
      ]
     },
     "metadata": {},
     "output_type": "display_data"
    },
    {
     "data": {
      "image/png": "[encoded data removed]",
      "text/plain": [
       "<Figure size 576x396 with 1 Axes>"
      ]
     },
     "metadata": {},
     "output_type": "display_data"
    },
    {
     "data": {
      "image/png": "[encoded data removed]",
      "text/plain": [
       "<Figure size 576x396 with 1 Axes>"
      ]
     },
     "metadata": {},
     "output_type": "display_data"
    },
    {
     "data": {
      "image/png": "[encoded data removed]",
      "text/plain": [
       "<Figure size 576x396 with 1 Axes>"
      ]
     },
     "metadata": {},
     "output_type": "display_data"
    },
    {
     "data": {
      "image/png": "[encoded data removed]",
      "text/plain": [
       "<Figure size 576x396 with 1 Axes>"
      ]
     },
     "metadata": {},
     "output_type": "display_data"
    },
    {
     "data": {
      "image/png": "[encoded data removed]",
      "text/plain": [
       "<Figure size 576x396 with 1 Axes>"
      ]
     },
     "metadata": {},
     "output_type": "display_data"
    },
    {
     "data": {
      "image/png": "[encoded data removed]",
      "text/plain": [
       "<Figure size 576x396 with 1 Axes>"
      ]
     },
     "metadata": {},
     "output_type": "display_data"
    }
   ],
   "source": [
    "category_columns = ['Age','Occupation','City_Category', 'Stay_In_Current_City_Years', 'Marital_Status', 'Product_Category_1','Product_Category_2','Product_Category_3']\n",
    "\n",
    "for i in range(len(category_columns)) :\n",
    "    \n",
    "    t = data[category_columns[i]].value_counts().to_frame().reset_index()\n",
    "    t.sort_values(by = 'index', inplace = True)\n",
    "    \n",
    "    plt.title('{} distribution'.format(category_columns[i]))\n",
    "    sns.barplot(x = 'index', y = category_columns[i], data = t)\n",
    "    plt.show()\n",
    "\n",
    "    \n",
    "    "
   ]
  },
  {
   "cell_type": "markdown",
   "metadata": {},
   "source": [
    "- 범주형 데이터를 확인해 보면 `Product_ID` 는 1797개의 unique값을 가지고 있으며 다양한 상품명을 설명한다.\n",
    "- target 변수인 `Gender`의 경우 75%정도가 남자를 차지하고 있다.\n",
    "- `Product_ID`의 경우 `Product_Category_1`와 `Product_Category_2`가 같은 경우에도 다른 값을 보이기 때문에 하위 분류로 생각을 한다.\n",
    "- \n",
    "- 대부분의 범주형 변수의 경우 다양한 분포를 보이고 있기 때문에 정확한 분석을 위해서 `Gender`와 함께 시각화를 진행하여 파생변수를 생성해야 된다.\n"
   ]
  },
  {
   "cell_type": "code",
   "execution_count": 9,
   "metadata": {
    "scrolled": true
   },
   "outputs": [
    {
     "data": {
      "text/plain": [
       "User_ID                          0\n",
       "Product_ID                       0\n",
       "Gender                           0\n",
       "Age                              0\n",
       "Occupation                       0\n",
       "City_Category                    0\n",
       "Stay_In_Current_City_Years       0\n",
       "Marital_Status                   0\n",
       "Product_Category_1               0\n",
       "Product_Category_2            1533\n",
       "Product_Category_3            3454\n",
       "Purchase                         0\n",
       "dtype: int64"
      ]
     },
     "execution_count": 9,
     "metadata": {},
     "output_type": "execute_result"
    }
   ],
   "source": [
    "data.isna().sum()"
   ]
  },
  {
   "cell_type": "code",
   "execution_count": 10,
   "metadata": {},
   "outputs": [
    {
     "name": "stdout",
     "output_type": "stream",
     "text": [
      "Product Category 2 결측치 비율 :  0.3067226890756303\n",
      "Product Category 3 결측치 비율 :  0.6910764305722289\n"
     ]
    }
   ],
   "source": [
    "print('Product Category 2 결측치 비율 : ',data.Product_Category_2.isna().sum()/ len(data.Product_Category_2))\n",
    "print('Product Category 3 결측치 비율 : ',data.Product_Category_3.isna().sum()/ len(data.Product_Category_3))"
   ]
  },
  {
   "cell_type": "markdown",
   "metadata": {},
   "source": [
    "- 결측치를 확인해 보면 `Product_Category_2`의 경우 전체 데이터에서 30% 가량이 결측치에 해당되고 `Product_Category_3`의 경우 전체 데이터에서 약 70% 가량 결측치에 해당한다. \n",
    "- `Product_Category_3`의 경우 너무 많은 결측치를 가지기 때문에 다른 방법으로 결측치를 채운다하여도 데이터의 특성이 반영되지 않는다. 따라서 이 변수는 제거하도록 하며 `Product_Category_2`의 경우 `Product_ID`와 `Product_Category_1`을 사용하여  결측치를 Impute해주도록 한다."
   ]
  },
  {
   "cell_type": "code",
   "execution_count": 11,
   "metadata": {},
   "outputs": [],
   "source": [
    "data.drop(columns = ['Product_Category_3'], axis =1 , inplace = True)"
   ]
  },
  {
   "cell_type": "code",
   "execution_count": 12,
   "metadata": {},
   "outputs": [],
   "source": [
    "from sklearn.experimental import enable_iterative_imputer\n",
    "from sklearn.impute import IterativeImputer"
   ]
  },
  {
   "cell_type": "code",
   "execution_count": 13,
   "metadata": {},
   "outputs": [],
   "source": [
    "t = data.copy()\n",
    "t = t[['Product_ID','Product_Category_1','Product_Category_2']]\n",
    "t[['Product_ID']] = t.Product_ID.astype('category').cat.codes"
   ]
  },
  {
   "cell_type": "code",
   "execution_count": 14,
   "metadata": {},
   "outputs": [],
   "source": [
    "imp = IterativeImputer(random_state= 1, missing_values= np.nan, n_nearest_features= 5, initial_strategy= 'constant')\n",
    "\n",
    "result = imp.fit(t).transform(t)\n",
    "result = pd.DataFrame(data=result, columns= t.columns)"
   ]
  },
  {
   "cell_type": "code",
   "execution_count": 15,
   "metadata": {},
   "outputs": [],
   "source": [
    "data['Product_Category_2'] = result['Product_Category_2'].apply(lambda x : round(x))"
   ]
  },
  {
   "cell_type": "markdown",
   "metadata": {},
   "source": [
    "### 2. 파생변수 생성"
   ]
  },
  {
   "cell_type": "code",
   "execution_count": 16,
   "metadata": {},
   "outputs": [],
   "source": [
    "features  = []"
   ]
  },
  {
   "cell_type": "markdown",
   "metadata": {},
   "source": [
    "#### 파생변수 :  총구매액, 구매건수, 평균구매액\n",
    "- 우선 기본적으로 `Purchase`와 관련된 변수들 부터 생성을 진행한다.\n",
    "- `User_ID`별 총구매액의 `Gender`비율을 확인해 보면 값이 6140 ~ 8049 사이의 경우 남성일 확률이 크지만 8893~11537사이의 경우 낮은것을 확인할 수 있다. 다른 경우를 살펴보아도 양상이 다르기 때문에 변수로 생성한다.\n",
    "- `User_ID`별 구매건수 `Gender`의 비율을 확인해 보면 10개를 살 경우 남성의 비율이 33%이고 이보다 높을 경우 100%를 보인다. 또 다른 경우를 확인해 보면 개수마다 다른 양상을 보이기 때문에 변수를 생성한다.\n",
    "- `User_ID`별 평균구매액의 `Gender`비율을 확인해 보면 평균 구매액이 클수록 남성의 비율이 높아지기 때문에 변수를 생성한다."
   ]
  },
  {
   "cell_type": "markdown",
   "metadata": {},
   "source": [
    "##### 총구매액"
   ]
  },
  {
   "cell_type": "code",
   "execution_count": 17,
   "metadata": {},
   "outputs": [
    {
     "data": {
      "text/html": [
       "<style  type=\"text/css\" >\n",
       "#T_6bb3ceb0_6b80_11eb_a9f0_00c2c6a61985row0_col0{\n",
       "            background-color:  #3a8ac2;\n",
       "            color:  #000000;\n",
       "        }#T_6bb3ceb0_6b80_11eb_a9f0_00c2c6a61985row1_col0{\n",
       "            background-color:  #72b2d8;\n",
       "            color:  #000000;\n",
       "        }#T_6bb3ceb0_6b80_11eb_a9f0_00c2c6a61985row2_col0{\n",
       "            background-color:  #5aa2cf;\n",
       "            color:  #000000;\n",
       "        }#T_6bb3ceb0_6b80_11eb_a9f0_00c2c6a61985row3_col0{\n",
       "            background-color:  #08306b;\n",
       "            color:  #f1f1f1;\n",
       "        }#T_6bb3ceb0_6b80_11eb_a9f0_00c2c6a61985row4_col0{\n",
       "            background-color:  #083d7f;\n",
       "            color:  #f1f1f1;\n",
       "        }#T_6bb3ceb0_6b80_11eb_a9f0_00c2c6a61985row5_col0{\n",
       "            background-color:  #8abfdd;\n",
       "            color:  #000000;\n",
       "        }#T_6bb3ceb0_6b80_11eb_a9f0_00c2c6a61985row6_col0{\n",
       "            background-color:  #f7fbff;\n",
       "            color:  #000000;\n",
       "        }#T_6bb3ceb0_6b80_11eb_a9f0_00c2c6a61985row7_col0{\n",
       "            background-color:  #115ca5;\n",
       "            color:  #f1f1f1;\n",
       "        }#T_6bb3ceb0_6b80_11eb_a9f0_00c2c6a61985row8_col0{\n",
       "            background-color:  #c7dcef;\n",
       "            color:  #000000;\n",
       "        }#T_6bb3ceb0_6b80_11eb_a9f0_00c2c6a61985row9_col0{\n",
       "            background-color:  #2c7cba;\n",
       "            color:  #000000;\n",
       "        }</style><table id=\"T_6bb3ceb0_6b80_11eb_a9f0_00c2c6a61985\" ><thead>    <tr>        <th class=\"blank level0\" ></th>        <th class=\"col_heading level0 col0\" >Gender</th>    </tr>    <tr>        <th class=\"index_name level0\" >Total_purchase</th>        <th class=\"blank\" ></th>    </tr></thead><tbody>\n",
       "                <tr>\n",
       "                        <th id=\"T_6bb3ceb0_6b80_11eb_a9f0_00c2c6a61985level0_row0\" class=\"row_heading level0 row0\" >(12.999, 3524.0]</th>\n",
       "                        <td id=\"T_6bb3ceb0_6b80_11eb_a9f0_00c2c6a61985row0_col0\" class=\"data row0 col0\" >0.750916</td>\n",
       "            </tr>\n",
       "            <tr>\n",
       "                        <th id=\"T_6bb3ceb0_6b80_11eb_a9f0_00c2c6a61985level0_row1\" class=\"row_heading level0 row1\" >(3524.0, 5259.0]</th>\n",
       "                        <td id=\"T_6bb3ceb0_6b80_11eb_a9f0_00c2c6a61985row1_col0\" class=\"data row1 col0\" >0.737864</td>\n",
       "            </tr>\n",
       "            <tr>\n",
       "                        <th id=\"T_6bb3ceb0_6b80_11eb_a9f0_00c2c6a61985level0_row2\" class=\"row_heading level0 row2\" >(5259.0, 6140.3]</th>\n",
       "                        <td id=\"T_6bb3ceb0_6b80_11eb_a9f0_00c2c6a61985row2_col0\" class=\"data row2 col0\" >0.743396</td>\n",
       "            </tr>\n",
       "            <tr>\n",
       "                        <th id=\"T_6bb3ceb0_6b80_11eb_a9f0_00c2c6a61985level0_row3\" class=\"row_heading level0 row3\" >(6140.3, 7158.8]</th>\n",
       "                        <td id=\"T_6bb3ceb0_6b80_11eb_a9f0_00c2c6a61985row3_col0\" class=\"data row3 col0\" >0.777358</td>\n",
       "            </tr>\n",
       "            <tr>\n",
       "                        <th id=\"T_6bb3ceb0_6b80_11eb_a9f0_00c2c6a61985level0_row4\" class=\"row_heading level0 row4\" >(7158.8, 8049.0]</th>\n",
       "                        <td id=\"T_6bb3ceb0_6b80_11eb_a9f0_00c2c6a61985row4_col0\" class=\"data row4 col0\" >0.773234</td>\n",
       "            </tr>\n",
       "            <tr>\n",
       "                        <th id=\"T_6bb3ceb0_6b80_11eb_a9f0_00c2c6a61985level0_row5\" class=\"row_heading level0 row5\" >(8049.0, 8893.2]</th>\n",
       "                        <td id=\"T_6bb3ceb0_6b80_11eb_a9f0_00c2c6a61985row5_col0\" class=\"data row5 col0\" >0.733564</td>\n",
       "            </tr>\n",
       "            <tr>\n",
       "                        <th id=\"T_6bb3ceb0_6b80_11eb_a9f0_00c2c6a61985level0_row6\" class=\"row_heading level0 row6\" >(8893.2, 11537.6]</th>\n",
       "                        <td id=\"T_6bb3ceb0_6b80_11eb_a9f0_00c2c6a61985row6_col0\" class=\"data row6 col0\" >0.701195</td>\n",
       "            </tr>\n",
       "            <tr>\n",
       "                        <th id=\"T_6bb3ceb0_6b80_11eb_a9f0_00c2c6a61985level0_row7\" class=\"row_heading level0 row7\" >(11537.6, 13517.0]</th>\n",
       "                        <td id=\"T_6bb3ceb0_6b80_11eb_a9f0_00c2c6a61985row7_col0\" class=\"data row7 col0\" >0.764479</td>\n",
       "            </tr>\n",
       "            <tr>\n",
       "                        <th id=\"T_6bb3ceb0_6b80_11eb_a9f0_00c2c6a61985level0_row8\" class=\"row_heading level0 row8\" >(13517.0, 16340.3]</th>\n",
       "                        <td id=\"T_6bb3ceb0_6b80_11eb_a9f0_00c2c6a61985row8_col0\" class=\"data row8 col0\" >0.719665</td>\n",
       "            </tr>\n",
       "            <tr>\n",
       "                        <th id=\"T_6bb3ceb0_6b80_11eb_a9f0_00c2c6a61985level0_row9\" class=\"row_heading level0 row9\" >(16340.3, 23913.0]</th>\n",
       "                        <td id=\"T_6bb3ceb0_6b80_11eb_a9f0_00c2c6a61985row9_col0\" class=\"data row9 col0\" >0.755274</td>\n",
       "            </tr>\n",
       "    </tbody></table>"
      ],
      "text/plain": [
       "<pandas.io.formats.style.Styler at 0x1abfec46490>"
      ]
     },
     "execution_count": 17,
     "metadata": {},
     "output_type": "execute_result"
    }
   ],
   "source": [
    "t = data.copy()\n",
    "t['Gender'] = t['Gender'].apply(lambda x : 1 if x == 'M' else 0)\n",
    "t1 = t.groupby(['User_ID','Gender'])['Purchase'].sum().to_frame().reset_index()\n",
    "t1['Total_purchase'] = pd.qcut(t['Purchase'], 10)\n",
    "t1.groupby('Total_purchase')['Gender'].mean().to_frame().style.background_gradient(cmap = 'Blues')"
   ]
  },
  {
   "cell_type": "markdown",
   "metadata": {},
   "source": [
    "##### 구매건수"
   ]
  },
  {
   "cell_type": "code",
   "execution_count": 18,
   "metadata": {},
   "outputs": [
    {
     "data": {
      "image/png": "[encoded data removed]",
      "text/plain": [
       "<Figure size 864x576 with 1 Axes>"
      ]
     },
     "metadata": {},
     "output_type": "display_data"
    }
   ],
   "source": [
    "t1 = t.groupby(['User_ID','Gender'])['Purchase'].count().to_frame().reset_index()\n",
    "t1.groupby('Purchase')['Gender'].mean().plot.bar(figsize =(12,8))\n",
    "plt.legend()\n",
    "plt.show()"
   ]
  },
  {
   "cell_type": "markdown",
   "metadata": {},
   "source": [
    "##### 평균구매액"
   ]
  },
  {
   "cell_type": "code",
   "execution_count": 19,
   "metadata": {},
   "outputs": [
    {
     "data": {
      "text/html": [
       "<style  type=\"text/css\" >\n",
       "#T_6c1e5058_6b80_11eb_b531_00c2c6a61985row0_col0{\n",
       "            background-color:  #d1e2f3;\n",
       "            color:  #000000;\n",
       "        }#T_6c1e5058_6b80_11eb_b531_00c2c6a61985row1_col0,#T_6c1e5058_6b80_11eb_b531_00c2c6a61985row3_col0{\n",
       "            background-color:  #d7e6f5;\n",
       "            color:  #000000;\n",
       "        }#T_6c1e5058_6b80_11eb_b531_00c2c6a61985row2_col0{\n",
       "            background-color:  #dfecf7;\n",
       "            color:  #000000;\n",
       "        }#T_6c1e5058_6b80_11eb_b531_00c2c6a61985row4_col0{\n",
       "            background-color:  #d3e3f3;\n",
       "            color:  #000000;\n",
       "        }#T_6c1e5058_6b80_11eb_b531_00c2c6a61985row5_col0{\n",
       "            background-color:  #f7fbff;\n",
       "            color:  #000000;\n",
       "        }#T_6c1e5058_6b80_11eb_b531_00c2c6a61985row6_col0{\n",
       "            background-color:  #4997c9;\n",
       "            color:  #000000;\n",
       "        }#T_6c1e5058_6b80_11eb_b531_00c2c6a61985row7_col0{\n",
       "            background-color:  #084990;\n",
       "            color:  #f1f1f1;\n",
       "        }#T_6c1e5058_6b80_11eb_b531_00c2c6a61985row8_col0{\n",
       "            background-color:  #08316d;\n",
       "            color:  #f1f1f1;\n",
       "        }#T_6c1e5058_6b80_11eb_b531_00c2c6a61985row9_col0{\n",
       "            background-color:  #08306b;\n",
       "            color:  #f1f1f1;\n",
       "        }</style><table id=\"T_6c1e5058_6b80_11eb_b531_00c2c6a61985\" ><thead>    <tr>        <th class=\"blank level0\" ></th>        <th class=\"col_heading level0 col0\" >Gender</th>    </tr>    <tr>        <th class=\"index_name level0\" >mean_purchase</th>        <th class=\"blank\" ></th>    </tr></thead><tbody>\n",
       "                <tr>\n",
       "                        <th id=\"T_6c1e5058_6b80_11eb_b531_00c2c6a61985level0_row0\" class=\"row_heading level0 row0\" >(13.999, 4285.75]</th>\n",
       "                        <td id=\"T_6c1e5058_6b80_11eb_b531_00c2c6a61985row0_col0\" class=\"data row0 col0\" >0.718045</td>\n",
       "            </tr>\n",
       "            <tr>\n",
       "                        <th id=\"T_6c1e5058_6b80_11eb_b531_00c2c6a61985level0_row1\" class=\"row_heading level0 row1\" >(4285.75, 5982.25]</th>\n",
       "                        <td id=\"T_6c1e5058_6b80_11eb_b531_00c2c6a61985row1_col0\" class=\"data row1 col0\" >0.714286</td>\n",
       "            </tr>\n",
       "            <tr>\n",
       "                        <th id=\"T_6c1e5058_6b80_11eb_b531_00c2c6a61985level0_row2\" class=\"row_heading level0 row2\" >(5982.25, 7009.0]</th>\n",
       "                        <td id=\"T_6c1e5058_6b80_11eb_b531_00c2c6a61985row2_col0\" class=\"data row2 col0\" >0.709434</td>\n",
       "            </tr>\n",
       "            <tr>\n",
       "                        <th id=\"T_6c1e5058_6b80_11eb_b531_00c2c6a61985level0_row3\" class=\"row_heading level0 row3\" >(7009.0, 7826.667]</th>\n",
       "                        <td id=\"T_6c1e5058_6b80_11eb_b531_00c2c6a61985row3_col0\" class=\"data row3 col0\" >0.714286</td>\n",
       "            </tr>\n",
       "            <tr>\n",
       "                        <th id=\"T_6c1e5058_6b80_11eb_b531_00c2c6a61985level0_row4\" class=\"row_heading level0 row4\" >(7826.667, 8607.25]</th>\n",
       "                        <td id=\"T_6c1e5058_6b80_11eb_b531_00c2c6a61985row4_col0\" class=\"data row4 col0\" >0.716981</td>\n",
       "            </tr>\n",
       "            <tr>\n",
       "                        <th id=\"T_6c1e5058_6b80_11eb_b531_00c2c6a61985level0_row5\" class=\"row_heading level0 row5\" >(8607.25, 9805.0]</th>\n",
       "                        <td id=\"T_6c1e5058_6b80_11eb_b531_00c2c6a61985row5_col0\" class=\"data row5 col0\" >0.695489</td>\n",
       "            </tr>\n",
       "            <tr>\n",
       "                        <th id=\"T_6c1e5058_6b80_11eb_b531_00c2c6a61985level0_row6\" class=\"row_heading level0 row6\" >(9805.0, 11344.0]</th>\n",
       "                        <td id=\"T_6c1e5058_6b80_11eb_b531_00c2c6a61985row6_col0\" class=\"data row6 col0\" >0.766038</td>\n",
       "            </tr>\n",
       "            <tr>\n",
       "                        <th id=\"T_6c1e5058_6b80_11eb_b531_00c2c6a61985level0_row7\" class=\"row_heading level0 row7\" >(11344.0, 13098.75]</th>\n",
       "                        <td id=\"T_6c1e5058_6b80_11eb_b531_00c2c6a61985row7_col0\" class=\"data row7 col0\" >0.800752</td>\n",
       "            </tr>\n",
       "            <tr>\n",
       "                        <th id=\"T_6c1e5058_6b80_11eb_b531_00c2c6a61985level0_row8\" class=\"row_heading level0 row8\" >(13098.75, 15894.5]</th>\n",
       "                        <td id=\"T_6c1e5058_6b80_11eb_b531_00c2c6a61985row8_col0\" class=\"data row8 col0\" >0.811321</td>\n",
       "            </tr>\n",
       "            <tr>\n",
       "                        <th id=\"T_6c1e5058_6b80_11eb_b531_00c2c6a61985level0_row9\" class=\"row_heading level0 row9\" >(15894.5, 23913.0]</th>\n",
       "                        <td id=\"T_6c1e5058_6b80_11eb_b531_00c2c6a61985row9_col0\" class=\"data row9 col0\" >0.812030</td>\n",
       "            </tr>\n",
       "    </tbody></table>"
      ],
      "text/plain": [
       "<pandas.io.formats.style.Styler at 0x1ab82884850>"
      ]
     },
     "execution_count": 19,
     "metadata": {},
     "output_type": "execute_result"
    }
   ],
   "source": [
    "t1 = t.groupby(['User_ID','Gender'])['Purchase'].mean().to_frame().reset_index()\n",
    "t1['mean_purchase'] = pd.qcut(t1['Purchase'], 10)\n",
    "t1.groupby('mean_purchase')['Gender'].mean().to_frame().style.background_gradient(cmap = 'Blues')"
   ]
  },
  {
   "cell_type": "code",
   "execution_count": 20,
   "metadata": {},
   "outputs": [
    {
     "data": {
      "text/html": [
       "<div>\n",
       "<style scoped>\n",
       "    .dataframe tbody tr th:only-of-type {\n",
       "        vertical-align: middle;\n",
       "    }\n",
       "\n",
       "    .dataframe tbody tr th {\n",
       "        vertical-align: top;\n",
       "    }\n",
       "\n",
       "    .dataframe thead th {\n",
       "        text-align: right;\n",
       "    }\n",
       "</style>\n",
       "<table border=\"1\" class=\"dataframe\">\n",
       "  <thead>\n",
       "    <tr style=\"text-align: right;\">\n",
       "      <th></th>\n",
       "      <th>User_ID</th>\n",
       "      <th>총구매액</th>\n",
       "      <th>구매건수</th>\n",
       "      <th>평균구매액</th>\n",
       "    </tr>\n",
       "  </thead>\n",
       "  <tbody>\n",
       "    <tr>\n",
       "      <th>0</th>\n",
       "      <td>1000003</td>\n",
       "      <td>15592</td>\n",
       "      <td>1</td>\n",
       "      <td>15592</td>\n",
       "    </tr>\n",
       "    <tr>\n",
       "      <th>1</th>\n",
       "      <td>1000005</td>\n",
       "      <td>13291</td>\n",
       "      <td>1</td>\n",
       "      <td>13291</td>\n",
       "    </tr>\n",
       "    <tr>\n",
       "      <th>2</th>\n",
       "      <td>1000008</td>\n",
       "      <td>28242</td>\n",
       "      <td>2</td>\n",
       "      <td>14121</td>\n",
       "    </tr>\n",
       "    <tr>\n",
       "      <th>3</th>\n",
       "      <td>1000009</td>\n",
       "      <td>8017</td>\n",
       "      <td>1</td>\n",
       "      <td>8017</td>\n",
       "    </tr>\n",
       "    <tr>\n",
       "      <th>4</th>\n",
       "      <td>1000010</td>\n",
       "      <td>48196</td>\n",
       "      <td>5</td>\n",
       "      <td>9639</td>\n",
       "    </tr>\n",
       "    <tr>\n",
       "      <th>...</th>\n",
       "      <td>...</td>\n",
       "      <td>...</td>\n",
       "      <td>...</td>\n",
       "      <td>...</td>\n",
       "    </tr>\n",
       "    <tr>\n",
       "      <th>2651</th>\n",
       "      <td>1006028</td>\n",
       "      <td>7992</td>\n",
       "      <td>1</td>\n",
       "      <td>7992</td>\n",
       "    </tr>\n",
       "    <tr>\n",
       "      <th>2652</th>\n",
       "      <td>1006029</td>\n",
       "      <td>599</td>\n",
       "      <td>1</td>\n",
       "      <td>599</td>\n",
       "    </tr>\n",
       "    <tr>\n",
       "      <th>2653</th>\n",
       "      <td>1006031</td>\n",
       "      <td>3666</td>\n",
       "      <td>1</td>\n",
       "      <td>3666</td>\n",
       "    </tr>\n",
       "    <tr>\n",
       "      <th>2654</th>\n",
       "      <td>1006036</td>\n",
       "      <td>81561</td>\n",
       "      <td>10</td>\n",
       "      <td>8156</td>\n",
       "    </tr>\n",
       "    <tr>\n",
       "      <th>2655</th>\n",
       "      <td>1006037</td>\n",
       "      <td>7962</td>\n",
       "      <td>1</td>\n",
       "      <td>7962</td>\n",
       "    </tr>\n",
       "  </tbody>\n",
       "</table>\n",
       "<p>2656 rows × 4 columns</p>\n",
       "</div>"
      ],
      "text/plain": [
       "      User_ID   총구매액  구매건수  평균구매액\n",
       "0     1000003  15592     1  15592\n",
       "1     1000005  13291     1  13291\n",
       "2     1000008  28242     2  14121\n",
       "3     1000009   8017     1   8017\n",
       "4     1000010  48196     5   9639\n",
       "...       ...    ...   ...    ...\n",
       "2651  1006028   7992     1   7992\n",
       "2652  1006029    599     1    599\n",
       "2653  1006031   3666     1   3666\n",
       "2654  1006036  81561    10   8156\n",
       "2655  1006037   7962     1   7962\n",
       "\n",
       "[2656 rows x 4 columns]"
      ]
     },
     "execution_count": 20,
     "metadata": {},
     "output_type": "execute_result"
    }
   ],
   "source": [
    "f = data.groupby('User_ID')['Purchase'].agg([('총구매액',np.sum),('구매건수',np.size),('평균구매액', lambda x : np.round(np.mean(x)))]).reset_index()\n",
    "features.append(f)\n",
    "f"
   ]
  },
  {
   "cell_type": "markdown",
   "metadata": {},
   "source": [
    "#### 파생변수 : 상품종류\n",
    "- 위의 데이터의 `Product_Category_1`, `Product_Category_2`, `Product_ID`를 이용하여 변수를 생성한다. 편의상 순서대로 대분류, 중분류, 소분류로 정의한다.\n",
    "- `Product_Category_1` 의 경우 7개의 서로 다른 상품을 구매한 경우 남성임을 확인할 수 있으며 `Product_Category_2`의 경우 8,9개의 서로 다른 상품을 구매한 경우 남성임을 확인할 수 있으면 `Product_ID`의 경우 10개의 서로 다른 상품을 구매한 경우 여성의 비율이 높다. "
   ]
  },
  {
   "cell_type": "code",
   "execution_count": 21,
   "metadata": {
    "scrolled": false
   },
   "outputs": [
    {
     "data": {
      "image/png": "[encoded data removed]",
      "text/plain": [
       "<Figure size 576x360 with 1 Axes>"
      ]
     },
     "metadata": {},
     "output_type": "display_data"
    },
    {
     "data": {
      "image/png": "[encoded data removed]",
      "text/plain": [
       "<Figure size 576x360 with 1 Axes>"
      ]
     },
     "metadata": {},
     "output_type": "display_data"
    },
    {
     "data": {
      "image/png": "[encoded data removed]",
      "text/plain": [
       "<Figure size 576x360 with 1 Axes>"
      ]
     },
     "metadata": {},
     "output_type": "display_data"
    }
   ],
   "source": [
    "columns = ['Product_Category_1', 'Product_Category_2', 'Product_ID']\n",
    "for i in columns :\n",
    "    t1 = t.groupby(['User_ID', 'Gender'])[i].nunique().to_frame().reset_index()\n",
    "    t1.groupby(i)['Gender'].mean().plot.bar(figsize =(8,5))\n",
    "    plt.axhline(y=data['Gender'].value_counts()[0]/ len(data), color='c',linestyle = \"--\",linewidth= 2)\n",
    "    plt.title(i)\n",
    "    plt.legend()\n",
    "    plt.show()\n"
   ]
  },
  {
   "cell_type": "code",
   "execution_count": 22,
   "metadata": {},
   "outputs": [
    {
     "data": {
      "text/html": [
       "<div>\n",
       "<style scoped>\n",
       "    .dataframe tbody tr th:only-of-type {\n",
       "        vertical-align: middle;\n",
       "    }\n",
       "\n",
       "    .dataframe tbody tr th {\n",
       "        vertical-align: top;\n",
       "    }\n",
       "\n",
       "    .dataframe thead th {\n",
       "        text-align: right;\n",
       "    }\n",
       "</style>\n",
       "<table border=\"1\" class=\"dataframe\">\n",
       "  <thead>\n",
       "    <tr style=\"text-align: right;\">\n",
       "      <th></th>\n",
       "      <th>User_ID</th>\n",
       "      <th>대분류</th>\n",
       "      <th>중분류</th>\n",
       "      <th>소분류</th>\n",
       "    </tr>\n",
       "  </thead>\n",
       "  <tbody>\n",
       "    <tr>\n",
       "      <th>0</th>\n",
       "      <td>1000003</td>\n",
       "      <td>1</td>\n",
       "      <td>1</td>\n",
       "      <td>1</td>\n",
       "    </tr>\n",
       "    <tr>\n",
       "      <th>1</th>\n",
       "      <td>1000005</td>\n",
       "      <td>1</td>\n",
       "      <td>1</td>\n",
       "      <td>1</td>\n",
       "    </tr>\n",
       "    <tr>\n",
       "      <th>2</th>\n",
       "      <td>1000008</td>\n",
       "      <td>2</td>\n",
       "      <td>2</td>\n",
       "      <td>2</td>\n",
       "    </tr>\n",
       "    <tr>\n",
       "      <th>3</th>\n",
       "      <td>1000009</td>\n",
       "      <td>1</td>\n",
       "      <td>1</td>\n",
       "      <td>1</td>\n",
       "    </tr>\n",
       "    <tr>\n",
       "      <th>4</th>\n",
       "      <td>1000010</td>\n",
       "      <td>4</td>\n",
       "      <td>4</td>\n",
       "      <td>5</td>\n",
       "    </tr>\n",
       "    <tr>\n",
       "      <th>...</th>\n",
       "      <td>...</td>\n",
       "      <td>...</td>\n",
       "      <td>...</td>\n",
       "      <td>...</td>\n",
       "    </tr>\n",
       "    <tr>\n",
       "      <th>2651</th>\n",
       "      <td>1006028</td>\n",
       "      <td>1</td>\n",
       "      <td>1</td>\n",
       "      <td>1</td>\n",
       "    </tr>\n",
       "    <tr>\n",
       "      <th>2652</th>\n",
       "      <td>1006029</td>\n",
       "      <td>1</td>\n",
       "      <td>1</td>\n",
       "      <td>1</td>\n",
       "    </tr>\n",
       "    <tr>\n",
       "      <th>2653</th>\n",
       "      <td>1006031</td>\n",
       "      <td>1</td>\n",
       "      <td>1</td>\n",
       "      <td>1</td>\n",
       "    </tr>\n",
       "    <tr>\n",
       "      <th>2654</th>\n",
       "      <td>1006036</td>\n",
       "      <td>6</td>\n",
       "      <td>7</td>\n",
       "      <td>10</td>\n",
       "    </tr>\n",
       "    <tr>\n",
       "      <th>2655</th>\n",
       "      <td>1006037</td>\n",
       "      <td>1</td>\n",
       "      <td>1</td>\n",
       "      <td>1</td>\n",
       "    </tr>\n",
       "  </tbody>\n",
       "</table>\n",
       "<p>2656 rows × 4 columns</p>\n",
       "</div>"
      ],
      "text/plain": [
       "      User_ID  대분류  중분류  소분류\n",
       "0     1000003    1    1    1\n",
       "1     1000005    1    1    1\n",
       "2     1000008    2    2    2\n",
       "3     1000009    1    1    1\n",
       "4     1000010    4    4    5\n",
       "...       ...  ...  ...  ...\n",
       "2651  1006028    1    1    1\n",
       "2652  1006029    1    1    1\n",
       "2653  1006031    1    1    1\n",
       "2654  1006036    6    7   10\n",
       "2655  1006037    1    1    1\n",
       "\n",
       "[2656 rows x 4 columns]"
      ]
     },
     "execution_count": 22,
     "metadata": {},
     "output_type": "execute_result"
    }
   ],
   "source": [
    "f = data.groupby('User_ID').agg({\n",
    "    'Product_Category_1': [('대분류', lambda x: x.nunique())],\n",
    "    'Product_Category_2': [('중분류', lambda x: x.nunique())],\n",
    "    'Product_ID': [('소분류', lambda x: x.nunique())]\n",
    "})\n",
    "\n",
    "f.columns = f.columns.droplevel()\n",
    "f = f.reset_index()\n",
    "features.append(f)\n",
    "f"
   ]
  },
  {
   "cell_type": "markdown",
   "metadata": {},
   "source": [
    "#### 파생변수 : 연령대\n",
    "\n",
    "- 기존의 `Age`변수의 `Gender`를 확인해 보면 0-17의 경우 다른 경우보다 낮은 남성 비율을 보인다. \n",
    "- 이를 모델링을 위하여 category변수로 변환해준다."
   ]
  },
  {
   "cell_type": "code",
   "execution_count": 23,
   "metadata": {},
   "outputs": [
    {
     "data": {
      "image/png": "[encoded data removed]",
      "text/plain": [
       "<Figure size 576x360 with 1 Axes>"
      ]
     },
     "metadata": {},
     "output_type": "display_data"
    }
   ],
   "source": [
    "t1 = t.groupby(['User_ID','Gender'])['Age'].apply(lambda x: x.value_counts().index[0]).to_frame().reset_index()\n",
    "t1.groupby('Age')['Gender'].mean().plot.bar(figsize =(8,5))\n",
    "plt.axhline(y=data['Gender'].value_counts()[0]/ len(data), color='c',linestyle = \"--\",linewidth= 2)\n",
    "plt.title(i)\n",
    "plt.legend()\n",
    "plt.show()"
   ]
  },
  {
   "cell_type": "code",
   "execution_count": 24,
   "metadata": {},
   "outputs": [],
   "source": [
    "f = data.groupby('User_ID')['Age'].apply(lambda x: x.value_counts().index[0]).to_frame().reset_index()\n",
    "f['Age'] = f['Age'].astype('category').cat.codes\n",
    "features.append(f)"
   ]
  },
  {
   "cell_type": "markdown",
   "metadata": {},
   "source": [
    "#### 파생변수 : 고객 직업\n",
    "\n",
    "- 직업별 `Gender`비율을 살펴보면 `Occupation == 9`의 경우 여성일 확률이 가장크고 다른 경우들도 확인해보면 직업별로 `Gender`의 비율이 다른 것을 보아 `Gender`을 예측하는 좋은 변수라고 볼 수 있다."
   ]
  },
  {
   "cell_type": "code",
   "execution_count": 25,
   "metadata": {},
   "outputs": [
    {
     "name": "stdout",
     "output_type": "stream",
     "text": [
      "1.0\n"
     ]
    },
    {
     "data": {
      "image/png": "[encoded data removed]",
      "text/plain": [
       "<Figure size 576x360 with 1 Axes>"
      ]
     },
     "metadata": {},
     "output_type": "display_data"
    }
   ],
   "source": [
    "print(t.groupby(['User_ID','Gender'])['Occupation'].apply(lambda x : len(x.value_counts().index)).mean()) # 모든 User_ID는 하나의 직을 가진다.)\n",
    "t1 = t.groupby(['User_ID','Gender'])['Occupation'].apply(lambda x: x.value_counts().index[0]).to_frame().reset_index()\n",
    "t1.groupby('Occupation')['Gender'].mean().plot.bar(figsize =(8,5))\n",
    "plt.axhline(y=data['Gender'].value_counts()[0]/ len(data), color='c',linestyle = \"--\",linewidth= 2)\n",
    "plt.title(i)\n",
    "plt.legend()\n",
    "plt.show()"
   ]
  },
  {
   "cell_type": "code",
   "execution_count": 26,
   "metadata": {},
   "outputs": [
    {
     "data": {
      "text/html": [
       "<div>\n",
       "<style scoped>\n",
       "    .dataframe tbody tr th:only-of-type {\n",
       "        vertical-align: middle;\n",
       "    }\n",
       "\n",
       "    .dataframe tbody tr th {\n",
       "        vertical-align: top;\n",
       "    }\n",
       "\n",
       "    .dataframe thead th {\n",
       "        text-align: right;\n",
       "    }\n",
       "</style>\n",
       "<table border=\"1\" class=\"dataframe\">\n",
       "  <thead>\n",
       "    <tr style=\"text-align: right;\">\n",
       "      <th></th>\n",
       "      <th>User_ID</th>\n",
       "      <th>Occupation</th>\n",
       "    </tr>\n",
       "  </thead>\n",
       "  <tbody>\n",
       "    <tr>\n",
       "      <th>0</th>\n",
       "      <td>1000003</td>\n",
       "      <td>15</td>\n",
       "    </tr>\n",
       "    <tr>\n",
       "      <th>1</th>\n",
       "      <td>1000005</td>\n",
       "      <td>20</td>\n",
       "    </tr>\n",
       "    <tr>\n",
       "      <th>2</th>\n",
       "      <td>1000008</td>\n",
       "      <td>12</td>\n",
       "    </tr>\n",
       "    <tr>\n",
       "      <th>3</th>\n",
       "      <td>1000009</td>\n",
       "      <td>17</td>\n",
       "    </tr>\n",
       "    <tr>\n",
       "      <th>4</th>\n",
       "      <td>1000010</td>\n",
       "      <td>1</td>\n",
       "    </tr>\n",
       "    <tr>\n",
       "      <th>...</th>\n",
       "      <td>...</td>\n",
       "      <td>...</td>\n",
       "    </tr>\n",
       "    <tr>\n",
       "      <th>2651</th>\n",
       "      <td>1006028</td>\n",
       "      <td>4</td>\n",
       "    </tr>\n",
       "    <tr>\n",
       "      <th>2652</th>\n",
       "      <td>1006029</td>\n",
       "      <td>1</td>\n",
       "    </tr>\n",
       "    <tr>\n",
       "      <th>2653</th>\n",
       "      <td>1006031</td>\n",
       "      <td>0</td>\n",
       "    </tr>\n",
       "    <tr>\n",
       "      <th>2654</th>\n",
       "      <td>1006036</td>\n",
       "      <td>15</td>\n",
       "    </tr>\n",
       "    <tr>\n",
       "      <th>2655</th>\n",
       "      <td>1006037</td>\n",
       "      <td>1</td>\n",
       "    </tr>\n",
       "  </tbody>\n",
       "</table>\n",
       "<p>2656 rows × 2 columns</p>\n",
       "</div>"
      ],
      "text/plain": [
       "      User_ID  Occupation\n",
       "0     1000003          15\n",
       "1     1000005          20\n",
       "2     1000008          12\n",
       "3     1000009          17\n",
       "4     1000010           1\n",
       "...       ...         ...\n",
       "2651  1006028           4\n",
       "2652  1006029           1\n",
       "2653  1006031           0\n",
       "2654  1006036          15\n",
       "2655  1006037           1\n",
       "\n",
       "[2656 rows x 2 columns]"
      ]
     },
     "execution_count": 26,
     "metadata": {},
     "output_type": "execute_result"
    }
   ],
   "source": [
    "f = data.groupby('User_ID')['Occupation'].apply(lambda x: x.value_counts().index[0]).to_frame().reset_index()\n",
    "features.append(f)\n",
    "f"
   ]
  },
  {
   "cell_type": "markdown",
   "metadata": {},
   "source": [
    "#### 파생변수 : 고객 거주 도시\n",
    "\n",
    "- 고객 거주 도시별 `Gender`의 비율을 살펴보면 차이가 크지 않은 것을 확인할 수 있다. \n",
    "- 따라서 이 변수는 성별을 구별하는 좋은 변수가 아니지만 변수의 갯수가 적기 때문에 일단 포함시킨다."
   ]
  },
  {
   "cell_type": "code",
   "execution_count": 27,
   "metadata": {},
   "outputs": [
    {
     "name": "stdout",
     "output_type": "stream",
     "text": [
      "1.0\n"
     ]
    }
   ],
   "source": [
    "print(t.groupby('User_ID')['City_Category'].apply(lambda x : len(x.value_counts().index)).mean()) # 모든 User_id는 하나의 도시에 거주한다."
   ]
  },
  {
   "cell_type": "code",
   "execution_count": 28,
   "metadata": {},
   "outputs": [
    {
     "data": {
      "image/png": "[encoded data removed]",
      "text/plain": [
       "<Figure size 576x360 with 1 Axes>"
      ]
     },
     "metadata": {},
     "output_type": "display_data"
    }
   ],
   "source": [
    "t1 = t.groupby(['User_ID','Gender'])['City_Category'].apply(lambda x: x.value_counts().index[0]).to_frame().reset_index()\n",
    "t1.groupby('City_Category')['Gender'].mean().plot.bar(figsize =(8,5))\n",
    "plt.axhline(y=data['Gender'].value_counts()[0]/ len(data), color='c',linestyle = \"--\",linewidth= 2)\n",
    "plt.title(i)\n",
    "plt.legend()\n",
    "plt.show()"
   ]
  },
  {
   "cell_type": "code",
   "execution_count": 29,
   "metadata": {},
   "outputs": [
    {
     "data": {
      "text/html": [
       "<div>\n",
       "<style scoped>\n",
       "    .dataframe tbody tr th:only-of-type {\n",
       "        vertical-align: middle;\n",
       "    }\n",
       "\n",
       "    .dataframe tbody tr th {\n",
       "        vertical-align: top;\n",
       "    }\n",
       "\n",
       "    .dataframe thead th {\n",
       "        text-align: right;\n",
       "    }\n",
       "</style>\n",
       "<table border=\"1\" class=\"dataframe\">\n",
       "  <thead>\n",
       "    <tr style=\"text-align: right;\">\n",
       "      <th></th>\n",
       "      <th>User_ID</th>\n",
       "      <th>City_Category</th>\n",
       "    </tr>\n",
       "  </thead>\n",
       "  <tbody>\n",
       "    <tr>\n",
       "      <th>0</th>\n",
       "      <td>1000003</td>\n",
       "      <td>0</td>\n",
       "    </tr>\n",
       "    <tr>\n",
       "      <th>1</th>\n",
       "      <td>1000005</td>\n",
       "      <td>0</td>\n",
       "    </tr>\n",
       "    <tr>\n",
       "      <th>2</th>\n",
       "      <td>1000008</td>\n",
       "      <td>2</td>\n",
       "    </tr>\n",
       "    <tr>\n",
       "      <th>3</th>\n",
       "      <td>1000009</td>\n",
       "      <td>2</td>\n",
       "    </tr>\n",
       "    <tr>\n",
       "      <th>4</th>\n",
       "      <td>1000010</td>\n",
       "      <td>1</td>\n",
       "    </tr>\n",
       "    <tr>\n",
       "      <th>...</th>\n",
       "      <td>...</td>\n",
       "      <td>...</td>\n",
       "    </tr>\n",
       "    <tr>\n",
       "      <th>2651</th>\n",
       "      <td>1006028</td>\n",
       "      <td>0</td>\n",
       "    </tr>\n",
       "    <tr>\n",
       "      <th>2652</th>\n",
       "      <td>1006029</td>\n",
       "      <td>2</td>\n",
       "    </tr>\n",
       "    <tr>\n",
       "      <th>2653</th>\n",
       "      <td>1006031</td>\n",
       "      <td>2</td>\n",
       "    </tr>\n",
       "    <tr>\n",
       "      <th>2654</th>\n",
       "      <td>1006036</td>\n",
       "      <td>1</td>\n",
       "    </tr>\n",
       "    <tr>\n",
       "      <th>2655</th>\n",
       "      <td>1006037</td>\n",
       "      <td>2</td>\n",
       "    </tr>\n",
       "  </tbody>\n",
       "</table>\n",
       "<p>2656 rows × 2 columns</p>\n",
       "</div>"
      ],
      "text/plain": [
       "      User_ID  City_Category\n",
       "0     1000003              0\n",
       "1     1000005              0\n",
       "2     1000008              2\n",
       "3     1000009              2\n",
       "4     1000010              1\n",
       "...       ...            ...\n",
       "2651  1006028              0\n",
       "2652  1006029              2\n",
       "2653  1006031              2\n",
       "2654  1006036              1\n",
       "2655  1006037              2\n",
       "\n",
       "[2656 rows x 2 columns]"
      ]
     },
     "execution_count": 29,
     "metadata": {},
     "output_type": "execute_result"
    }
   ],
   "source": [
    "f = data.groupby('User_ID')['City_Category'].apply(lambda x : x.value_counts().index[0]).to_frame().reset_index()\n",
    "f['City_Category'] = f['City_Category'].astype('category').cat.codes\n",
    "features.append(f)\n",
    "f"
   ]
  },
  {
   "cell_type": "markdown",
   "metadata": {},
   "source": [
    "#### 파생변수 : 현재 도시 거주 기간\n",
    "\n",
    "- 현재 도시 거주 기간별 `Gender`의 비율을 살펴보면 차이가 크지 않은 것을 확인할 수 있다. \n",
    "- 따라서 이 변수는 성별을 구별하는 좋은 변수가 아니지만 변수의 갯수가 적기 때문에 일단 포함시킨다."
   ]
  },
  {
   "cell_type": "code",
   "execution_count": 30,
   "metadata": {},
   "outputs": [
    {
     "data": {
      "image/png": "[encoded data removed]",
      "text/plain": [
       "<Figure size 576x360 with 1 Axes>"
      ]
     },
     "metadata": {},
     "output_type": "display_data"
    }
   ],
   "source": [
    "t1 = t.groupby(['User_ID','Gender'])['Stay_In_Current_City_Years'].apply(lambda x: x.value_counts().index[0]).to_frame().reset_index()\n",
    "t1.groupby('Stay_In_Current_City_Years')['Gender'].mean().plot.bar(figsize =(8,5))\n",
    "plt.axhline(y=data['Gender'].value_counts()[0]/ len(data), color='c',linestyle = \"--\",linewidth= 2)\n",
    "plt.title(i)\n",
    "plt.legend()\n",
    "plt.show()"
   ]
  },
  {
   "cell_type": "code",
   "execution_count": 33,
   "metadata": {},
   "outputs": [
    {
     "data": {
      "text/html": [
       "<div>\n",
       "<style scoped>\n",
       "    .dataframe tbody tr th:only-of-type {\n",
       "        vertical-align: middle;\n",
       "    }\n",
       "\n",
       "    .dataframe tbody tr th {\n",
       "        vertical-align: top;\n",
       "    }\n",
       "\n",
       "    .dataframe thead th {\n",
       "        text-align: right;\n",
       "    }\n",
       "</style>\n",
       "<table border=\"1\" class=\"dataframe\">\n",
       "  <thead>\n",
       "    <tr style=\"text-align: right;\">\n",
       "      <th></th>\n",
       "      <th>User_ID</th>\n",
       "      <th>Stay_In_Current_City_Years</th>\n",
       "    </tr>\n",
       "  </thead>\n",
       "  <tbody>\n",
       "    <tr>\n",
       "      <th>0</th>\n",
       "      <td>1000003</td>\n",
       "      <td>3</td>\n",
       "    </tr>\n",
       "    <tr>\n",
       "      <th>1</th>\n",
       "      <td>1000005</td>\n",
       "      <td>1</td>\n",
       "    </tr>\n",
       "    <tr>\n",
       "      <th>2</th>\n",
       "      <td>1000008</td>\n",
       "      <td>4</td>\n",
       "    </tr>\n",
       "    <tr>\n",
       "      <th>3</th>\n",
       "      <td>1000009</td>\n",
       "      <td>0</td>\n",
       "    </tr>\n",
       "    <tr>\n",
       "      <th>4</th>\n",
       "      <td>1000010</td>\n",
       "      <td>4</td>\n",
       "    </tr>\n",
       "    <tr>\n",
       "      <th>...</th>\n",
       "      <td>...</td>\n",
       "      <td>...</td>\n",
       "    </tr>\n",
       "    <tr>\n",
       "      <th>2651</th>\n",
       "      <td>1006028</td>\n",
       "      <td>4</td>\n",
       "    </tr>\n",
       "    <tr>\n",
       "      <th>2652</th>\n",
       "      <td>1006029</td>\n",
       "      <td>1</td>\n",
       "    </tr>\n",
       "    <tr>\n",
       "      <th>2653</th>\n",
       "      <td>1006031</td>\n",
       "      <td>1</td>\n",
       "    </tr>\n",
       "    <tr>\n",
       "      <th>2654</th>\n",
       "      <td>1006036</td>\n",
       "      <td>4</td>\n",
       "    </tr>\n",
       "    <tr>\n",
       "      <th>2655</th>\n",
       "      <td>1006037</td>\n",
       "      <td>4</td>\n",
       "    </tr>\n",
       "  </tbody>\n",
       "</table>\n",
       "<p>2656 rows × 2 columns</p>\n",
       "</div>"
      ],
      "text/plain": [
       "      User_ID  Stay_In_Current_City_Years\n",
       "0     1000003                           3\n",
       "1     1000005                           1\n",
       "2     1000008                           4\n",
       "3     1000009                           0\n",
       "4     1000010                           4\n",
       "...       ...                         ...\n",
       "2651  1006028                           4\n",
       "2652  1006029                           1\n",
       "2653  1006031                           1\n",
       "2654  1006036                           4\n",
       "2655  1006037                           4\n",
       "\n",
       "[2656 rows x 2 columns]"
      ]
     },
     "execution_count": 33,
     "metadata": {},
     "output_type": "execute_result"
    }
   ],
   "source": [
    "f = data.groupby('User_ID')['Stay_In_Current_City_Years'].apply(lambda x : x.value_counts().index[0]).to_frame().reset_index()\n",
    "f['Stay_In_Current_City_Years'] = f['Stay_In_Current_City_Years'].astype('category').cat.codes\n",
    "features.append(f)\n",
    "f"
   ]
  },
  {
   "cell_type": "markdown",
   "metadata": {},
   "source": [
    "#### 파생변수 : 결혼 여부 \n",
    "\n",
    "- 결혼 여부별 `Gender`의 비율을 살펴보면 차이가 크지 않은 것을 확인할 수 있다. \n",
    "- 따라서 이 변수는 성별을 구별하는 좋은 변수가 아니지만 변수의 갯수가 적기 때문에 일단 포함시킨다."
   ]
  },
  {
   "cell_type": "code",
   "execution_count": 34,
   "metadata": {},
   "outputs": [
    {
     "data": {
      "image/png": "[encoded data removed]",
      "text/plain": [
       "<Figure size 576x360 with 1 Axes>"
      ]
     },
     "metadata": {},
     "output_type": "display_data"
    }
   ],
   "source": [
    "t1 = t.groupby(['User_ID','Gender'])['Marital_Status'].apply(lambda x: x.value_counts().index[0]).to_frame().reset_index()\n",
    "t1.groupby('Marital_Status')['Gender'].mean().plot.bar(figsize =(8,5))\n",
    "plt.axhline(y=data['Gender'].value_counts()[0]/ len(data), color='c',linestyle = \"--\",linewidth= 2)\n",
    "plt.title(i)\n",
    "plt.legend()\n",
    "plt.show()"
   ]
  },
  {
   "cell_type": "code",
   "execution_count": 36,
   "metadata": {},
   "outputs": [
    {
     "data": {
      "text/html": [
       "<div>\n",
       "<style scoped>\n",
       "    .dataframe tbody tr th:only-of-type {\n",
       "        vertical-align: middle;\n",
       "    }\n",
       "\n",
       "    .dataframe tbody tr th {\n",
       "        vertical-align: top;\n",
       "    }\n",
       "\n",
       "    .dataframe thead th {\n",
       "        text-align: right;\n",
       "    }\n",
       "</style>\n",
       "<table border=\"1\" class=\"dataframe\">\n",
       "  <thead>\n",
       "    <tr style=\"text-align: right;\">\n",
       "      <th></th>\n",
       "      <th>User_ID</th>\n",
       "      <th>Marital_Status</th>\n",
       "    </tr>\n",
       "  </thead>\n",
       "  <tbody>\n",
       "    <tr>\n",
       "      <th>0</th>\n",
       "      <td>1000003</td>\n",
       "      <td>0</td>\n",
       "    </tr>\n",
       "    <tr>\n",
       "      <th>1</th>\n",
       "      <td>1000005</td>\n",
       "      <td>1</td>\n",
       "    </tr>\n",
       "    <tr>\n",
       "      <th>2</th>\n",
       "      <td>1000008</td>\n",
       "      <td>1</td>\n",
       "    </tr>\n",
       "    <tr>\n",
       "      <th>3</th>\n",
       "      <td>1000009</td>\n",
       "      <td>0</td>\n",
       "    </tr>\n",
       "    <tr>\n",
       "      <th>4</th>\n",
       "      <td>1000010</td>\n",
       "      <td>1</td>\n",
       "    </tr>\n",
       "    <tr>\n",
       "      <th>...</th>\n",
       "      <td>...</td>\n",
       "      <td>...</td>\n",
       "    </tr>\n",
       "    <tr>\n",
       "      <th>2651</th>\n",
       "      <td>1006028</td>\n",
       "      <td>0</td>\n",
       "    </tr>\n",
       "    <tr>\n",
       "      <th>2652</th>\n",
       "      <td>1006029</td>\n",
       "      <td>1</td>\n",
       "    </tr>\n",
       "    <tr>\n",
       "      <th>2653</th>\n",
       "      <td>1006031</td>\n",
       "      <td>0</td>\n",
       "    </tr>\n",
       "    <tr>\n",
       "      <th>2654</th>\n",
       "      <td>1006036</td>\n",
       "      <td>1</td>\n",
       "    </tr>\n",
       "    <tr>\n",
       "      <th>2655</th>\n",
       "      <td>1006037</td>\n",
       "      <td>0</td>\n",
       "    </tr>\n",
       "  </tbody>\n",
       "</table>\n",
       "<p>2656 rows × 2 columns</p>\n",
       "</div>"
      ],
      "text/plain": [
       "      User_ID  Marital_Status\n",
       "0     1000003               0\n",
       "1     1000005               1\n",
       "2     1000008               1\n",
       "3     1000009               0\n",
       "4     1000010               1\n",
       "...       ...             ...\n",
       "2651  1006028               0\n",
       "2652  1006029               1\n",
       "2653  1006031               0\n",
       "2654  1006036               1\n",
       "2655  1006037               0\n",
       "\n",
       "[2656 rows x 2 columns]"
      ]
     },
     "execution_count": 36,
     "metadata": {},
     "output_type": "execute_result"
    }
   ],
   "source": [
    "f = data.groupby('User_ID')['Marital_Status'].apply(lambda x : x.value_counts().index[0]).to_frame().reset_index()\n",
    "features.append(f)\n",
    "f"
   ]
  },
  {
   "cell_type": "code",
   "execution_count": 62,
   "metadata": {},
   "outputs": [],
   "source": [
    "# merge\n",
    "\n",
    "dt = pd.DataFrame({'User_ID' : data.User_ID.unique()}).sort_values(by = 'User_ID')\n",
    "\n",
    "for f in features : \n",
    "    dt = pd.merge(dt, f , how = 'left')\n",
    "\n",
    "y = data.groupby('User_ID')['Gender'].apply(lambda x : x.value_counts().index[0]).to_frame().reset_index()\n",
    "y['Gender'] = y['Gender'].apply(lambda x : 1 if x == 'M' else 0 )\n",
    "\n",
    "y = y.Gender"
   ]
  },
  {
   "cell_type": "code",
   "execution_count": 63,
   "metadata": {},
   "outputs": [
    {
     "data": {
      "text/html": [
       "<div>\n",
       "<style scoped>\n",
       "    .dataframe tbody tr th:only-of-type {\n",
       "        vertical-align: middle;\n",
       "    }\n",
       "\n",
       "    .dataframe tbody tr th {\n",
       "        vertical-align: top;\n",
       "    }\n",
       "\n",
       "    .dataframe thead th {\n",
       "        text-align: right;\n",
       "    }\n",
       "</style>\n",
       "<table border=\"1\" class=\"dataframe\">\n",
       "  <thead>\n",
       "    <tr style=\"text-align: right;\">\n",
       "      <th></th>\n",
       "      <th>User_ID</th>\n",
       "      <th>총구매액</th>\n",
       "      <th>구매건수</th>\n",
       "      <th>평균구매액</th>\n",
       "      <th>대분류</th>\n",
       "      <th>중분류</th>\n",
       "      <th>소분류</th>\n",
       "      <th>Age</th>\n",
       "      <th>Occupation</th>\n",
       "      <th>City_Category</th>\n",
       "      <th>Stay_In_Current_City_Years</th>\n",
       "      <th>Marital_Status</th>\n",
       "    </tr>\n",
       "  </thead>\n",
       "  <tbody>\n",
       "    <tr>\n",
       "      <th>0</th>\n",
       "      <td>1000003</td>\n",
       "      <td>15592</td>\n",
       "      <td>1</td>\n",
       "      <td>15592</td>\n",
       "      <td>1</td>\n",
       "      <td>1</td>\n",
       "      <td>1</td>\n",
       "      <td>2</td>\n",
       "      <td>15</td>\n",
       "      <td>0</td>\n",
       "      <td>3</td>\n",
       "      <td>0</td>\n",
       "    </tr>\n",
       "    <tr>\n",
       "      <th>1</th>\n",
       "      <td>1000005</td>\n",
       "      <td>13291</td>\n",
       "      <td>1</td>\n",
       "      <td>13291</td>\n",
       "      <td>1</td>\n",
       "      <td>1</td>\n",
       "      <td>1</td>\n",
       "      <td>2</td>\n",
       "      <td>20</td>\n",
       "      <td>0</td>\n",
       "      <td>1</td>\n",
       "      <td>1</td>\n",
       "    </tr>\n",
       "    <tr>\n",
       "      <th>2</th>\n",
       "      <td>1000008</td>\n",
       "      <td>28242</td>\n",
       "      <td>2</td>\n",
       "      <td>14121</td>\n",
       "      <td>2</td>\n",
       "      <td>2</td>\n",
       "      <td>2</td>\n",
       "      <td>2</td>\n",
       "      <td>12</td>\n",
       "      <td>2</td>\n",
       "      <td>4</td>\n",
       "      <td>1</td>\n",
       "    </tr>\n",
       "    <tr>\n",
       "      <th>3</th>\n",
       "      <td>1000009</td>\n",
       "      <td>8017</td>\n",
       "      <td>1</td>\n",
       "      <td>8017</td>\n",
       "      <td>1</td>\n",
       "      <td>1</td>\n",
       "      <td>1</td>\n",
       "      <td>2</td>\n",
       "      <td>17</td>\n",
       "      <td>2</td>\n",
       "      <td>0</td>\n",
       "      <td>0</td>\n",
       "    </tr>\n",
       "    <tr>\n",
       "      <th>4</th>\n",
       "      <td>1000010</td>\n",
       "      <td>48196</td>\n",
       "      <td>5</td>\n",
       "      <td>9639</td>\n",
       "      <td>4</td>\n",
       "      <td>4</td>\n",
       "      <td>5</td>\n",
       "      <td>3</td>\n",
       "      <td>1</td>\n",
       "      <td>1</td>\n",
       "      <td>4</td>\n",
       "      <td>1</td>\n",
       "    </tr>\n",
       "    <tr>\n",
       "      <th>...</th>\n",
       "      <td>...</td>\n",
       "      <td>...</td>\n",
       "      <td>...</td>\n",
       "      <td>...</td>\n",
       "      <td>...</td>\n",
       "      <td>...</td>\n",
       "      <td>...</td>\n",
       "      <td>...</td>\n",
       "      <td>...</td>\n",
       "      <td>...</td>\n",
       "      <td>...</td>\n",
       "      <td>...</td>\n",
       "    </tr>\n",
       "    <tr>\n",
       "      <th>2651</th>\n",
       "      <td>1006028</td>\n",
       "      <td>7992</td>\n",
       "      <td>1</td>\n",
       "      <td>7992</td>\n",
       "      <td>1</td>\n",
       "      <td>1</td>\n",
       "      <td>1</td>\n",
       "      <td>1</td>\n",
       "      <td>4</td>\n",
       "      <td>0</td>\n",
       "      <td>4</td>\n",
       "      <td>0</td>\n",
       "    </tr>\n",
       "    <tr>\n",
       "      <th>2652</th>\n",
       "      <td>1006029</td>\n",
       "      <td>599</td>\n",
       "      <td>1</td>\n",
       "      <td>599</td>\n",
       "      <td>1</td>\n",
       "      <td>1</td>\n",
       "      <td>1</td>\n",
       "      <td>2</td>\n",
       "      <td>1</td>\n",
       "      <td>2</td>\n",
       "      <td>1</td>\n",
       "      <td>1</td>\n",
       "    </tr>\n",
       "    <tr>\n",
       "      <th>2653</th>\n",
       "      <td>1006031</td>\n",
       "      <td>3666</td>\n",
       "      <td>1</td>\n",
       "      <td>3666</td>\n",
       "      <td>1</td>\n",
       "      <td>1</td>\n",
       "      <td>1</td>\n",
       "      <td>1</td>\n",
       "      <td>0</td>\n",
       "      <td>2</td>\n",
       "      <td>1</td>\n",
       "      <td>0</td>\n",
       "    </tr>\n",
       "    <tr>\n",
       "      <th>2654</th>\n",
       "      <td>1006036</td>\n",
       "      <td>81561</td>\n",
       "      <td>10</td>\n",
       "      <td>8156</td>\n",
       "      <td>6</td>\n",
       "      <td>7</td>\n",
       "      <td>10</td>\n",
       "      <td>2</td>\n",
       "      <td>15</td>\n",
       "      <td>1</td>\n",
       "      <td>4</td>\n",
       "      <td>1</td>\n",
       "    </tr>\n",
       "    <tr>\n",
       "      <th>2655</th>\n",
       "      <td>1006037</td>\n",
       "      <td>7962</td>\n",
       "      <td>1</td>\n",
       "      <td>7962</td>\n",
       "      <td>1</td>\n",
       "      <td>1</td>\n",
       "      <td>1</td>\n",
       "      <td>4</td>\n",
       "      <td>1</td>\n",
       "      <td>2</td>\n",
       "      <td>4</td>\n",
       "      <td>0</td>\n",
       "    </tr>\n",
       "  </tbody>\n",
       "</table>\n",
       "<p>2656 rows × 12 columns</p>\n",
       "</div>"
      ],
      "text/plain": [
       "      User_ID   총구매액  구매건수  평균구매액  대분류  중분류  소분류  Age  Occupation  \\\n",
       "0     1000003  15592     1  15592    1    1    1    2          15   \n",
       "1     1000005  13291     1  13291    1    1    1    2          20   \n",
       "2     1000008  28242     2  14121    2    2    2    2          12   \n",
       "3     1000009   8017     1   8017    1    1    1    2          17   \n",
       "4     1000010  48196     5   9639    4    4    5    3           1   \n",
       "...       ...    ...   ...    ...  ...  ...  ...  ...         ...   \n",
       "2651  1006028   7992     1   7992    1    1    1    1           4   \n",
       "2652  1006029    599     1    599    1    1    1    2           1   \n",
       "2653  1006031   3666     1   3666    1    1    1    1           0   \n",
       "2654  1006036  81561    10   8156    6    7   10    2          15   \n",
       "2655  1006037   7962     1   7962    1    1    1    4           1   \n",
       "\n",
       "      City_Category  Stay_In_Current_City_Years  Marital_Status  \n",
       "0                 0                           3               0  \n",
       "1                 0                           1               1  \n",
       "2                 2                           4               1  \n",
       "3                 2                           0               0  \n",
       "4                 1                           4               1  \n",
       "...             ...                         ...             ...  \n",
       "2651              0                           4               0  \n",
       "2652              2                           1               1  \n",
       "2653              2                           1               0  \n",
       "2654              1                           4               1  \n",
       "2655              2                           4               0  \n",
       "\n",
       "[2656 rows x 12 columns]"
      ]
     },
     "execution_count": 63,
     "metadata": {},
     "output_type": "execute_result"
    }
   ],
   "source": [
    "dt"
   ]
  },
  {
   "cell_type": "code",
   "execution_count": 64,
   "metadata": {},
   "outputs": [
    {
     "data": {
      "text/plain": [
       "0       1\n",
       "1       1\n",
       "2       1\n",
       "3       1\n",
       "4       0\n",
       "       ..\n",
       "2651    1\n",
       "2652    0\n",
       "2653    0\n",
       "2654    0\n",
       "2655    0\n",
       "Name: Gender, Length: 2656, dtype: int64"
      ]
     },
     "execution_count": 64,
     "metadata": {},
     "output_type": "execute_result"
    }
   ],
   "source": [
    "y"
   ]
  },
  {
   "cell_type": "code",
   "execution_count": 65,
   "metadata": {},
   "outputs": [
    {
     "name": "stdout",
     "output_type": "stream",
     "text": [
      "<class 'pandas.core.frame.DataFrame'>\n",
      "Int64Index: 2656 entries, 0 to 2655\n",
      "Data columns (total 12 columns):\n",
      " #   Column                      Non-Null Count  Dtype\n",
      "---  ------                      --------------  -----\n",
      " 0   User_ID                     2656 non-null   int64\n",
      " 1   총구매액                        2656 non-null   int64\n",
      " 2   구매건수                        2656 non-null   int64\n",
      " 3   평균구매액                       2656 non-null   int64\n",
      " 4   대분류                         2656 non-null   int64\n",
      " 5   중분류                         2656 non-null   int64\n",
      " 6   소분류                         2656 non-null   int64\n",
      " 7   Age                         2656 non-null   int8 \n",
      " 8   Occupation                  2656 non-null   int64\n",
      " 9   City_Category               2656 non-null   int8 \n",
      " 10  Stay_In_Current_City_Years  2656 non-null   int8 \n",
      " 11  Marital_Status              2656 non-null   int64\n",
      "dtypes: int64(9), int8(3)\n",
      "memory usage: 215.3 KB\n"
     ]
    }
   ],
   "source": [
    "dt.info()"
   ]
  },
  {
   "cell_type": "code",
   "execution_count": 66,
   "metadata": {},
   "outputs": [
    {
     "data": {
      "text/plain": [
       "User_ID                       0\n",
       "총구매액                          0\n",
       "구매건수                          0\n",
       "평균구매액                         0\n",
       "대분류                           0\n",
       "중분류                           0\n",
       "소분류                           0\n",
       "Age                           0\n",
       "Occupation                    0\n",
       "City_Category                 0\n",
       "Stay_In_Current_City_Years    0\n",
       "Marital_Status                0\n",
       "dtype: int64"
      ]
     },
     "execution_count": 66,
     "metadata": {},
     "output_type": "execute_result"
    }
   ],
   "source": [
    "dt.isna().sum()"
   ]
  },
  {
   "cell_type": "markdown",
   "metadata": {},
   "source": [
    "## 2. Modeling\n",
    "\n",
    "- 우선 데이터를 train set / test set으로 분류를 해준 후 모델링을 진행한다."
   ]
  },
  {
   "cell_type": "code",
   "execution_count": 117,
   "metadata": {},
   "outputs": [],
   "source": [
    "from sklearn.neighbors import KNeighborsClassifier\n",
    "from sklearn.model_selection import train_test_split\n",
    "from sklearn.metrics import *\n",
    "from sklearn.preprocessing import StandardScaler, MinMaxScaler\n",
    "from sklearn.model_selection import cross_val_score, GridSearchCV\n",
    "\n",
    "\n",
    "X_train, X_test , y_train, y_test = train_test_split(dt, y, test_size = 0.3,random_state = 55, stratify = y) # 편향된 데이터 이므로 층화추출법을 이용하여 train set과 test set의 여성 비율을 맞추어 준다."
   ]
  },
  {
   "cell_type": "markdown",
   "metadata": {},
   "source": [
    "#### 정규화"
   ]
  },
  {
   "cell_type": "code",
   "execution_count": 118,
   "metadata": {},
   "outputs": [],
   "source": [
    "scaler = StandardScaler()\n",
    "\n",
    "X_train = scaler.fit_transform(X_train)\n",
    "X_test = scaler.transform(X_test)"
   ]
  },
  {
   "cell_type": "code",
   "execution_count": 119,
   "metadata": {},
   "outputs": [
    {
     "name": "stdout",
     "output_type": "stream",
     "text": [
      "Model Evaluation :  0.6963613550815558\n"
     ]
    }
   ],
   "source": [
    "knn = KNeighborsClassifier()\n",
    "\n",
    "knn.fit(X_train, y_train)\n",
    "\n",
    "print('Model Evaluation : ', knn.score(X_test, y_test) )"
   ]
  },
  {
   "cell_type": "markdown",
   "metadata": {},
   "source": [
    "- 기본 knn의 모델의 성능을 확인해 보면 69%로 기존 남녀 성별 비율 75%를 생각해보면 상당히 못맞추는것을 확인할 수 있다. \n",
    "- 이는 성별이 치우쳐진 데이터임으로 다른 성능을 함께 고려해야한다."
   ]
  },
  {
   "cell_type": "code",
   "execution_count": 120,
   "metadata": {
    "scrolled": true
   },
   "outputs": [
    {
     "data": {
      "text/plain": [
       "array([0, 1, 1, 0, 1, 1, 1, 1, 1, 1, 1, 0, 1, 1, 1, 1, 1, 1, 0, 0, 1, 1,\n",
       "       1, 1, 0, 1, 1, 1, 1, 0, 1, 1, 1, 1, 1, 1, 1, 1, 1, 1, 0, 1, 0, 0,\n",
       "       1, 1, 1, 1, 1, 1, 1, 1, 1, 1, 1, 1, 1, 1, 1, 1, 1, 0, 0, 1, 1, 1,\n",
       "       1, 1, 1, 1, 1, 1, 1, 1, 1, 1, 1, 1, 1, 0, 1, 0, 1, 1, 1, 1, 1, 1,\n",
       "       1, 1, 1, 1, 1, 1, 1, 1, 1, 1, 0, 0, 1, 1, 1, 1, 1, 1, 1, 0, 1, 1,\n",
       "       0, 1, 1, 1, 1, 1, 0, 1, 1, 1, 1, 0, 1, 1, 0, 0, 1, 1, 0, 1, 1, 0,\n",
       "       1, 1, 1, 0, 1, 1, 1, 1, 1, 1, 1, 1, 1, 1, 1, 1, 1, 1, 1, 1, 1, 1,\n",
       "       1, 1, 1, 1, 1, 1, 1, 0, 1, 1, 1, 1, 1, 1, 1, 1, 1, 1, 1, 1, 1, 1,\n",
       "       0, 1, 0, 1, 1, 1, 1, 0, 1, 0, 1, 1, 1, 1, 1, 0, 1, 1, 1, 1, 1, 1,\n",
       "       1, 1, 0, 1, 1, 1, 1, 1, 1, 1, 1, 1, 1, 1, 1, 1, 1, 1, 0, 1, 1, 1,\n",
       "       1, 1, 1, 1, 1, 1, 1, 1, 1, 1, 1, 1, 1, 1, 1, 1, 1, 1, 1, 1, 1, 1,\n",
       "       0, 1, 1, 1, 1, 0, 1, 0, 1, 0, 1, 1, 1, 0, 1, 1, 0, 1, 1, 1, 1, 1,\n",
       "       1, 1, 1, 1, 1, 1, 1, 1, 1, 1, 0, 1, 1, 1, 1, 1, 1, 1, 1, 1, 1, 1,\n",
       "       1, 1, 1, 1, 1, 1, 1, 1, 1, 1, 1, 1, 1, 1, 1, 1, 1, 1, 1, 0, 1, 0,\n",
       "       0, 1, 1, 1, 0, 1, 1, 1, 1, 0, 1, 1, 1, 1, 1, 1, 1, 1, 1, 1, 0, 1,\n",
       "       1, 1, 0, 1, 1, 1, 1, 1, 1, 1, 0, 1, 1, 1, 1, 1, 1, 1, 1, 1, 1, 1,\n",
       "       1, 1, 0, 1, 1, 1, 0, 1, 1, 1, 1, 1, 1, 1, 1, 1, 1, 1, 1, 1, 1, 1,\n",
       "       0, 1, 1, 1, 1, 1, 1, 1, 1, 1, 1, 1, 0, 1, 0, 0, 1, 1, 1, 1, 1, 1,\n",
       "       1, 1, 0, 1, 1, 1, 0, 1, 0, 1, 1, 0, 1, 1, 0, 1, 1, 1, 1, 0, 1, 1,\n",
       "       1, 1, 1, 1, 1, 1, 1, 1, 1, 1, 1, 1, 0, 1, 1, 1, 0, 1, 1, 1, 1, 1,\n",
       "       0, 1, 1, 1, 0, 1, 1, 1, 1, 1, 1, 0, 1, 1, 1, 1, 1, 1, 1, 1, 1, 1,\n",
       "       1, 1, 1, 1, 1, 1, 1, 1, 1, 1, 1, 1, 1, 1, 1, 1, 1, 1, 1, 1, 1, 1,\n",
       "       0, 1, 1, 1, 1, 1, 1, 1, 0, 1, 1, 0, 1, 1, 1, 0, 1, 1, 1, 0, 1, 1,\n",
       "       1, 1, 1, 1, 1, 1, 1, 1, 1, 1, 1, 1, 1, 1, 1, 1, 1, 1, 1, 1, 1, 1,\n",
       "       1, 0, 1, 1, 1, 1, 1, 1, 1, 1, 1, 1, 1, 1, 1, 1, 1, 1, 1, 1, 1, 0,\n",
       "       1, 1, 1, 1, 1, 1, 1, 1, 1, 0, 1, 1, 1, 1, 1, 1, 1, 1, 1, 1, 1, 0,\n",
       "       1, 1, 1, 1, 1, 1, 1, 1, 1, 1, 1, 1, 1, 1, 1, 1, 1, 0, 1, 1, 1, 0,\n",
       "       1, 1, 1, 1, 1, 1, 1, 1, 1, 1, 1, 1, 1, 1, 1, 0, 0, 1, 0, 1, 1, 1,\n",
       "       1, 1, 1, 0, 1, 1, 1, 1, 0, 1, 1, 1, 1, 1, 1, 1, 1, 1, 1, 1, 1, 1,\n",
       "       1, 1, 1, 1, 1, 1, 1, 1, 1, 1, 1, 1, 1, 1, 1, 1, 1, 1, 1, 1, 1, 1,\n",
       "       1, 1, 1, 1, 1, 1, 1, 0, 1, 1, 1, 1, 1, 1, 1, 0, 1, 1, 1, 1, 0, 0,\n",
       "       1, 0, 1, 1, 1, 1, 1, 1, 1, 1, 1, 1, 1, 0, 1, 1, 1, 1, 1, 1, 1, 0,\n",
       "       0, 1, 1, 1, 0, 0, 1, 1, 1, 1, 1, 1, 1, 0, 1, 1, 1, 1, 1, 1, 1, 1,\n",
       "       1, 0, 1, 1, 1, 1, 1, 1, 1, 1, 1, 1, 1, 1, 1, 1, 1, 1, 1, 0, 1, 1,\n",
       "       1, 1, 0, 1, 1, 1, 1, 1, 1, 1, 1, 1, 1, 1, 0, 1, 1, 1, 0, 1, 0, 1,\n",
       "       1, 0, 1, 1, 1, 0, 1, 1, 0, 1, 1, 1, 1, 1, 1, 0, 1, 1, 1, 1, 1, 1,\n",
       "       1, 0, 1, 1, 1], dtype=int64)"
      ]
     },
     "execution_count": 120,
     "metadata": {},
     "output_type": "execute_result"
    }
   ],
   "source": [
    "pred = knn.predict(X_test)\n",
    "pred"
   ]
  },
  {
   "cell_type": "code",
   "execution_count": 121,
   "metadata": {
    "scrolled": true
   },
   "outputs": [
    {
     "data": {
      "text/html": [
       "<div>\n",
       "<style scoped>\n",
       "    .dataframe tbody tr th:only-of-type {\n",
       "        vertical-align: middle;\n",
       "    }\n",
       "\n",
       "    .dataframe tbody tr th {\n",
       "        vertical-align: top;\n",
       "    }\n",
       "\n",
       "    .dataframe thead th {\n",
       "        text-align: right;\n",
       "    }\n",
       "</style>\n",
       "<table border=\"1\" class=\"dataframe\">\n",
       "  <thead>\n",
       "    <tr style=\"text-align: right;\">\n",
       "      <th></th>\n",
       "      <th>PN</th>\n",
       "      <th>PP</th>\n",
       "    </tr>\n",
       "  </thead>\n",
       "  <tbody>\n",
       "    <tr>\n",
       "      <th>RN</th>\n",
       "      <td>32</td>\n",
       "      <td>171</td>\n",
       "    </tr>\n",
       "    <tr>\n",
       "      <th>RP</th>\n",
       "      <td>71</td>\n",
       "      <td>523</td>\n",
       "    </tr>\n",
       "  </tbody>\n",
       "</table>\n",
       "</div>"
      ],
      "text/plain": [
       "    PN   PP\n",
       "RN  32  171\n",
       "RP  71  523"
      ]
     },
     "execution_count": 121,
     "metadata": {},
     "output_type": "execute_result"
    }
   ],
   "source": [
    "cm = pd.DataFrame(confusion_matrix(y_test, pred), index=['RN','RP'], columns = ['PN','PP'])\n",
    "cm"
   ]
  },
  {
   "cell_type": "markdown",
   "metadata": {},
   "source": [
    "- confusion matrix를 확인해 보면 실제 여자인 데이터 206개의 데이터중 32개만 정분류를 하였고 나머지는 남성으로 오분류를 하였다\n",
    "- 실제 남자인 데이터인 591개중 529개를 정분류하였고 71개를 오분류 하였다.\n",
    "- 이 경우 여성에 대한 예측을 굉장히 잘못하는것을 확인할 수 있다. 다른 평가지표를 확인 해보자"
   ]
  },
  {
   "cell_type": "code",
   "execution_count": 122,
   "metadata": {},
   "outputs": [
    {
     "name": "stdout",
     "output_type": "stream",
     "text": [
      "Accuracy :  0.6963613550815558\n",
      "Precision :  0.7536023054755043\n",
      "Recall :  0.8804713804713805\n",
      "Specificity :  0.15763546798029557\n",
      "f1_score :  0.812111801242236\n"
     ]
    }
   ],
   "source": [
    "tn, fp, fn, tp = confusion_matrix(y_test, pred).ravel()\n",
    "\n",
    "accuracy = (tp + tn)/ (tp+fn+fp+tn)\n",
    "precision = tp / (tp + fp)\n",
    "recall = tp / (tp + fn)\n",
    "specificity = tn / (fp + tn)\n",
    "f1_score =  2* (precision* recall) / (precision + recall)\n",
    "\n",
    "print(\"Accuracy : \", accuracy)\n",
    "print(\"Precision : \", precision)\n",
    "print(\"Recall : \", recall)\n",
    "print('Specificity : ', specificity)\n",
    "print(\"f1_score : \", f1_score)"
   ]
  },
  {
   "cell_type": "code",
   "execution_count": 123,
   "metadata": {},
   "outputs": [
    {
     "name": "stdout",
     "output_type": "stream",
     "text": [
      "              precision    recall  f1-score   support\n",
      "\n",
      "      female    0.31068   0.15764   0.20915       203\n",
      "        male    0.75360   0.88047   0.81211       594\n",
      "\n",
      "    accuracy                        0.69636       797\n",
      "   macro avg    0.53214   0.51905   0.51063       797\n",
      "weighted avg    0.64079   0.69636   0.65853       797\n",
      "\n",
      "ROC AUC SCORE :  0.519053424225838\n"
     ]
    }
   ],
   "source": [
    "\n",
    "print(classification_report(y_test, pred, digits= 5, target_names=[\"female\", \"male\"]))\n",
    "print(\"ROC AUC SCORE : \", roc_auc_score(y_test, pred))"
   ]
  },
  {
   "cell_type": "markdown",
   "metadata": {},
   "source": [
    "- 성능지표를 확인해보아도 여성에 대해서는 예측을 정말 못한다.\n",
    "- 이 이유는 `Female`를 설명할 변수가 부족하다는 것을 보여주며 데이터도 적지만 그 중 남성의 비율이 상당히 크기 때문이다.\n",
    "- 모델의 성능을 올리는 방법은 여러가지 있지만 데이터가 제한된점을 통해 모델의 하이퍼 파라미터를 수정하면서 성능을 올려보도록 하자."
   ]
  },
  {
   "cell_type": "markdown",
   "metadata": {},
   "source": [
    "### GridSearch"
   ]
  },
  {
   "cell_type": "markdown",
   "metadata": {},
   "source": [
    "**Hyper Parameters** \n",
    "\n",
    "    n_neighbors : Number of neighbors to use by default for kneighbors queries. \n",
    "    \n",
    "    weights : weight function used in prediction. Possible values\n",
    "    \n",
    "    algorithm : Algorithm used to compute the nearest neighbors\n",
    "    \n",
    "    p : When p = 1, this is equivalent to using manhattan_distance (l1), and euclidean_distance (l2)\n",
    "\n",
    "\n"
   ]
  },
  {
   "cell_type": "code",
   "execution_count": 124,
   "metadata": {},
   "outputs": [
    {
     "name": "stdout",
     "output_type": "stream",
     "text": [
      "Fitting 4 folds for each of 120 candidates, totalling 480 fits\n"
     ]
    },
    {
     "name": "stderr",
     "output_type": "stream",
     "text": [
      "[Parallel(n_jobs=1)]: Using backend SequentialBackend with 1 concurrent workers.\n"
     ]
    },
    {
     "name": "stdout",
     "output_type": "stream",
     "text": [
      "Best estimator: KNeighborsClassifier(n_neighbors=17, p=1)\n",
      "Best score: 0.7428786614757138\n",
      "Best params : {'algorithm': 'auto', 'n_neighbors': 17, 'p': 1, 'weights': 'uniform'}\n"
     ]
    },
    {
     "name": "stderr",
     "output_type": "stream",
     "text": [
      "[Parallel(n_jobs=1)]: Done 480 out of 480 | elapsed:   14.6s finished\n"
     ]
    }
   ],
   "source": [
    "knn = KNeighborsClassifier()\n",
    "param_grid  = { \n",
    "    'n_neighbors' : range(1,20,2),\n",
    "    'weights' : ['uniform', 'distance'],\n",
    "    'algorithm' : ['auto', 'ball_tree', 'kd_tree'], \n",
    "    'p' : [1,2]\n",
    "\n",
    "}\n",
    "\n",
    "grid = GridSearchCV(knn, param_grid=param_grid, cv = 4, scoring = 'accuracy', verbose = 1)\n",
    "grid.fit(X_train, y_train)\n",
    "\n",
    "print(\"Best estimator: {}\".format(grid.best_estimator_))\n",
    "print(\"Best score: {}\".format(grid.best_score_))\n",
    "print(\"Best params : {}\".format(grid.best_params_))"
   ]
  },
  {
   "cell_type": "markdown",
   "metadata": {},
   "source": [
    "- knn의 주요 변수에 관하여 GridSearchCV를 진행하였다. 여기서 cv는 cross validation을 의미하며 이는 k-fold를 의미한다.\n",
    "- n_neighbors는 가장 중요한 변수 이지만 값이 클수록 오버피팅의 가능성이 커진다. 여기서 최고 성능을 내는 n_neighbors는 17임으로  Overfitting 가능성을 생각해야한다.\n",
    "- 다음으로 weights 는 거리에 대하여 가중치를 부여할지 안할지 여부인데 여기서는 uniform이 최적의 parameter임을 보이므로 거리에 대하여 가중치는 부여하지 않는다.\n",
    "- p값은 이웃간의 거리를 맨하튼 거리, 유클리디안 거리를 측정 방법으로 사용하는지 이다. 이 경우 맨하튼 거리를 측정 방법으로 사용했을 때 더 좋은 성능을 보임을 확인할 수 있다."
   ]
  },
  {
   "cell_type": "code",
   "execution_count": 126,
   "metadata": {},
   "outputs": [
    {
     "name": "stdout",
     "output_type": "stream",
     "text": [
      "Model Evaluation :  0.7452948557089084\n"
     ]
    },
    {
     "data": {
      "text/plain": [
       "array([0, 1, 1, 1, 1, 1, 1, 1, 1, 1, 1, 1, 1, 1, 1, 1, 1, 1, 1, 0, 1, 1,\n",
       "       1, 1, 1, 1, 1, 1, 1, 1, 1, 1, 1, 1, 1, 1, 1, 1, 1, 1, 1, 1, 1, 0,\n",
       "       1, 1, 1, 1, 1, 1, 1, 1, 1, 1, 1, 1, 1, 1, 1, 1, 1, 1, 0, 1, 1, 1,\n",
       "       1, 1, 1, 1, 1, 1, 1, 1, 1, 1, 1, 1, 1, 1, 1, 1, 1, 1, 1, 1, 1, 1,\n",
       "       1, 1, 1, 1, 1, 1, 1, 1, 1, 1, 1, 1, 1, 1, 1, 1, 1, 1, 1, 1, 1, 1,\n",
       "       1, 1, 1, 1, 1, 1, 1, 1, 1, 1, 1, 1, 1, 1, 1, 1, 1, 1, 1, 1, 1, 1,\n",
       "       1, 1, 1, 1, 1, 1, 1, 1, 1, 1, 1, 1, 1, 1, 1, 1, 1, 1, 1, 1, 1, 1,\n",
       "       1, 1, 1, 1, 1, 1, 1, 1, 1, 1, 1, 1, 1, 1, 1, 1, 1, 1, 1, 1, 1, 1,\n",
       "       0, 1, 1, 1, 1, 1, 1, 1, 1, 1, 1, 1, 1, 1, 1, 1, 1, 1, 1, 1, 1, 1,\n",
       "       1, 1, 1, 1, 1, 1, 1, 1, 1, 1, 1, 1, 1, 1, 1, 1, 1, 1, 1, 1, 1, 1,\n",
       "       1, 1, 1, 1, 1, 1, 1, 1, 1, 1, 1, 1, 1, 1, 1, 1, 1, 1, 1, 1, 1, 1,\n",
       "       0, 1, 1, 1, 1, 1, 1, 1, 1, 1, 1, 1, 1, 1, 1, 1, 1, 1, 1, 1, 1, 1,\n",
       "       1, 1, 1, 1, 1, 1, 1, 1, 1, 1, 1, 1, 1, 1, 1, 1, 1, 1, 1, 1, 1, 1,\n",
       "       1, 1, 1, 1, 1, 1, 1, 1, 1, 1, 1, 1, 1, 1, 1, 1, 1, 1, 1, 1, 1, 1,\n",
       "       1, 1, 0, 1, 1, 1, 1, 1, 1, 0, 1, 1, 1, 1, 1, 1, 1, 1, 1, 1, 1, 1,\n",
       "       1, 1, 0, 1, 1, 1, 1, 1, 1, 1, 1, 1, 1, 1, 1, 1, 1, 1, 1, 1, 1, 1,\n",
       "       1, 1, 1, 1, 1, 1, 1, 1, 1, 1, 1, 1, 1, 1, 1, 1, 1, 1, 1, 1, 1, 1,\n",
       "       1, 1, 1, 1, 1, 1, 1, 1, 1, 1, 1, 1, 1, 1, 1, 1, 1, 1, 1, 1, 1, 1,\n",
       "       1, 1, 1, 1, 1, 1, 1, 1, 0, 1, 1, 1, 1, 1, 1, 1, 1, 1, 1, 1, 1, 1,\n",
       "       1, 1, 1, 1, 1, 1, 0, 1, 1, 1, 1, 1, 1, 1, 1, 1, 1, 1, 1, 1, 1, 1,\n",
       "       1, 1, 1, 1, 1, 1, 1, 1, 1, 1, 1, 1, 1, 1, 1, 1, 1, 1, 1, 1, 1, 1,\n",
       "       1, 1, 1, 1, 1, 1, 1, 1, 1, 1, 1, 1, 1, 1, 1, 1, 1, 1, 1, 1, 1, 1,\n",
       "       1, 1, 1, 1, 1, 1, 1, 1, 1, 1, 1, 1, 1, 1, 1, 1, 1, 1, 1, 1, 1, 1,\n",
       "       1, 1, 1, 1, 1, 1, 1, 1, 1, 1, 1, 1, 1, 1, 1, 1, 0, 1, 1, 1, 1, 1,\n",
       "       1, 1, 1, 1, 1, 1, 1, 1, 1, 1, 1, 1, 1, 1, 1, 1, 1, 1, 1, 1, 1, 0,\n",
       "       1, 1, 1, 1, 1, 1, 1, 1, 1, 1, 1, 1, 1, 1, 1, 1, 1, 1, 1, 1, 1, 1,\n",
       "       1, 1, 1, 1, 1, 1, 1, 1, 1, 1, 1, 1, 1, 1, 1, 1, 1, 1, 1, 1, 1, 1,\n",
       "       1, 1, 1, 1, 1, 1, 1, 1, 1, 1, 1, 0, 1, 1, 1, 1, 0, 1, 1, 1, 1, 1,\n",
       "       1, 1, 1, 1, 1, 1, 1, 1, 1, 1, 1, 1, 0, 1, 1, 1, 1, 1, 1, 1, 1, 1,\n",
       "       1, 1, 1, 1, 1, 1, 1, 1, 1, 1, 1, 1, 1, 1, 0, 1, 1, 1, 1, 1, 1, 0,\n",
       "       1, 1, 1, 1, 1, 1, 1, 0, 1, 1, 1, 1, 1, 1, 1, 1, 1, 1, 1, 1, 1, 1,\n",
       "       1, 1, 1, 1, 1, 1, 1, 1, 1, 1, 1, 1, 1, 1, 1, 1, 1, 1, 1, 1, 1, 1,\n",
       "       1, 1, 1, 1, 1, 1, 1, 1, 1, 1, 1, 1, 1, 1, 1, 1, 1, 1, 0, 1, 1, 1,\n",
       "       1, 1, 1, 1, 1, 1, 1, 1, 1, 1, 1, 1, 0, 1, 1, 1, 1, 1, 1, 0, 1, 1,\n",
       "       1, 1, 0, 1, 1, 1, 1, 1, 1, 1, 1, 1, 1, 1, 0, 1, 1, 1, 1, 1, 1, 1,\n",
       "       1, 1, 1, 1, 1, 1, 1, 1, 1, 1, 1, 1, 1, 1, 1, 1, 1, 1, 1, 1, 1, 1,\n",
       "       1, 1, 1, 1, 1], dtype=int64)"
      ]
     },
     "execution_count": 126,
     "metadata": {},
     "output_type": "execute_result"
    }
   ],
   "source": [
    "print('Model Evaluation : ', grid.score(X_test, y_test))\n",
    "pred = grid.predict(X_test)\n",
    "pred"
   ]
  },
  {
   "cell_type": "code",
   "execution_count": 127,
   "metadata": {},
   "outputs": [
    {
     "data": {
      "text/html": [
       "<div>\n",
       "<style scoped>\n",
       "    .dataframe tbody tr th:only-of-type {\n",
       "        vertical-align: middle;\n",
       "    }\n",
       "\n",
       "    .dataframe tbody tr th {\n",
       "        vertical-align: top;\n",
       "    }\n",
       "\n",
       "    .dataframe thead th {\n",
       "        text-align: right;\n",
       "    }\n",
       "</style>\n",
       "<table border=\"1\" class=\"dataframe\">\n",
       "  <thead>\n",
       "    <tr style=\"text-align: right;\">\n",
       "      <th></th>\n",
       "      <th>PN</th>\n",
       "      <th>PP</th>\n",
       "    </tr>\n",
       "  </thead>\n",
       "  <tbody>\n",
       "    <tr>\n",
       "      <th>RN</th>\n",
       "      <td>12</td>\n",
       "      <td>191</td>\n",
       "    </tr>\n",
       "    <tr>\n",
       "      <th>RP</th>\n",
       "      <td>12</td>\n",
       "      <td>582</td>\n",
       "    </tr>\n",
       "  </tbody>\n",
       "</table>\n",
       "</div>"
      ],
      "text/plain": [
       "    PN   PP\n",
       "RN  12  191\n",
       "RP  12  582"
      ]
     },
     "execution_count": 127,
     "metadata": {},
     "output_type": "execute_result"
    }
   ],
   "source": [
    "cm = pd.DataFrame(confusion_matrix(y_test, pred), index=['RN','RP'], columns = ['PN','PP'])\n",
    "cm"
   ]
  },
  {
   "cell_type": "markdown",
   "metadata": {},
   "source": [
    "- 결과를 확인해보면 극과 극의 성능을 보인다.\n",
    "- 실제 여자인 데이터를 여자라고 정분류 할 경우 전체 206개의 데이터중 12개 밖에 못하였다. 즉 기존 모델보다 더욱 여성을 예측 못하는것을 확인할 수 있고 \n",
    "- 남성의 경우는 놀라울 정도로 성능이 올랐는데 실제 남자인 데이터 591개중 오분류를 12개 밖에 하지 못하였다. \n",
    "- 여전히 여성에 대한 예측을 못하지만 남성의 경우는 상당히 성능이 오른것을 확인 할 수 있다."
   ]
  },
  {
   "cell_type": "code",
   "execution_count": 128,
   "metadata": {},
   "outputs": [
    {
     "name": "stdout",
     "output_type": "stream",
     "text": [
      "Accuracy :  0.7452948557089084\n",
      "Precision :  0.7529107373868047\n",
      "Recall :  0.9797979797979798\n",
      "Specificity :  0.059113300492610835\n",
      "f1_score :  0.8514996342355522\n"
     ]
    }
   ],
   "source": [
    "tn, fp, fn, tp = confusion_matrix(y_test, pred).ravel()\n",
    "\n",
    "accuracy = (tp + tn)/ (tp+fn+fp+tn)\n",
    "precision = tp / (tp + fp)\n",
    "recall = tp / (tp + fn)\n",
    "specificity = tn / (fp + tn)\n",
    "f1_score =  2* (precision* recall) / (precision + recall)\n",
    "\n",
    "print(\"Accuracy : \", accuracy)\n",
    "print(\"Precision : \", precision)\n",
    "print(\"Recall : \", recall)\n",
    "print('Specificity : ', specificity)\n",
    "print(\"f1_score : \", f1_score)"
   ]
  },
  {
   "cell_type": "markdown",
   "metadata": {},
   "source": [
    "* train set에 대해서 성능이 정확도는 74.28% 나왔고 test set에 대해서는 74.5%의 성능을 보여준다.\n",
    "* Recall의 경우를 보면 97%로 상당히 높게 나왓으며 Precision의 경우 75% 를 보이며 f1 score는 85%의 성능을 보인다. 하지만 Specificity 를 보면 상당히 낮게 나오는것을 확인할 수 있다. 이는 여성에 대하여 상당히 못맞추기 때문에 성능이 낮게 나온다. \n",
    "* 이 모델의 경우 남성에 대해서는 잘 분류를 하지만 여성의 경우 완전히 못하는 모델이기 때문에 성능이 좋다고 말할 수는 없을것 같다. 또한 남성 비율이 전체의 75%로 모든 데이터에 대하여 1로 분류 했을 경우보다 성능이 낮게 나옴을 알 수 있다."
   ]
  },
  {
   "cell_type": "code",
   "execution_count": null,
   "metadata": {},
   "outputs": [],
   "source": []
  }
 ],
 "metadata": {
  "kernelspec": {
   "display_name": "Python 3",
   "language": "python",
   "name": "python3"
  },
  "language_info": {
   "codemirror_mode": {
    "name": "ipython",
    "version": 3
   },
   "file_extension": ".py",
   "mimetype": "text/x-python",
   "name": "python",
   "nbconvert_exporter": "python",
   "pygments_lexer": "ipython3",
   "version": "3.8.6"
  }
 },
 "nbformat": 4,
 "nbformat_minor": 4
}
